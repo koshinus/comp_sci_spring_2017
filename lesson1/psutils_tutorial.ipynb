{
 "cells": [
  {
   "cell_type": "code",
   "execution_count": 1,
   "metadata": {
    "collapsed": true
   },
   "outputs": [],
   "source": [
    "# https://pypi.python.org/pypi/psutil"
   ]
  },
  {
   "cell_type": "code",
   "execution_count": 2,
   "metadata": {
    "collapsed": false
   },
   "outputs": [],
   "source": [
    "import psutil"
   ]
  },
  {
   "cell_type": "code",
   "execution_count": 3,
   "metadata": {
    "collapsed": false
   },
   "outputs": [
    {
     "data": {
      "text/plain": [
       "scputimes(user=10417.26, nice=107.68, system=2442.75, idle=58308.16, iowait=376.5, irq=0.0, softirq=52.8, steal=0.0, guest=0.0, guest_nice=0.0)"
      ]
     },
     "execution_count": 3,
     "metadata": {},
     "output_type": "execute_result"
    }
   ],
   "source": [
    "psutil.cpu_times()"
   ]
  },
  {
   "cell_type": "code",
   "execution_count": 4,
   "metadata": {
    "collapsed": false
   },
   "outputs": [
    {
     "name": "stdout",
     "output_type": "stream",
     "text": [
      "8\n",
      "4\n"
     ]
    }
   ],
   "source": [
    "print psutil.cpu_count()\n",
    "print psutil.cpu_count(logical=False)"
   ]
  },
  {
   "cell_type": "code",
   "execution_count": 5,
   "metadata": {
    "collapsed": false
   },
   "outputs": [
    {
     "name": "stdout",
     "output_type": "stream",
     "text": [
      "svmem(total=12418478080L, available=8846249984L, percent=28.8, used=7185797120L, free=5232680960L, active=4933615616, inactive=1703735296, buffers=313401344L, cached=3300167680)\n",
      "sswap(total=12228489216L, used=0L, free=12228489216L, percent=0.0, sin=0, sout=0)\n"
     ]
    }
   ],
   "source": [
    "print psutil.virtual_memory()\n",
    "print psutil.swap_memory()"
   ]
  },
  {
   "cell_type": "code",
   "execution_count": 6,
   "metadata": {
    "collapsed": false
   },
   "outputs": [
    {
     "data": {
      "text/plain": [
       "[sdiskpart(device='/dev/sdb3', mountpoint='/', fstype='ext4', opts='rw,relatime,errors=remount-ro,data=ordered'),\n",
       " sdiskpart(device='/dev/sda1', mountpoint='/boot/efi', fstype='vfat', opts='rw,relatime,fmask=0077,dmask=0077,codepage=437,iocharset=iso8859-1,shortname=mixed,errors=remount-ro')]"
      ]
     },
     "execution_count": 6,
     "metadata": {},
     "output_type": "execute_result"
    }
   ],
   "source": [
    "psutil.disk_partitions()"
   ]
  },
  {
   "cell_type": "code",
   "execution_count": 7,
   "metadata": {
    "collapsed": false
   },
   "outputs": [
    {
     "data": {
      "text/plain": [
       "4.9"
      ]
     },
     "execution_count": 7,
     "metadata": {},
     "output_type": "execute_result"
    }
   ],
   "source": [
    "psutil.cpu_percent()"
   ]
  },
  {
   "cell_type": "code",
   "execution_count": 8,
   "metadata": {
    "collapsed": false
   },
   "outputs": [
    {
     "data": {
      "text/plain": [
       "sdiskusage(total=761920094208, used=361094418432, free=362098724864, percent=47.4)"
      ]
     },
     "execution_count": 8,
     "metadata": {},
     "output_type": "execute_result"
    }
   ],
   "source": [
    "psutil.disk_usage('/')"
   ]
  },
  {
   "cell_type": "code",
   "execution_count": 9,
   "metadata": {
    "collapsed": true
   },
   "outputs": [
    {
     "data": {
      "text/plain": [
       "[sconn(fd=-1, family=10, type=1, laddr=('::1', 631), raddr=(), status='LISTEN', pid=None),\n",
       " sconn(fd=-1, family=2, type=2, laddr=('0.0.0.0', 5353), raddr=(), status='NONE', pid=None),\n",
       " sconn(fd=3, family=2, type=1, laddr=('127.0.0.1', 8889), raddr=('127.0.0.1', 37030), status='CLOSE_WAIT', pid=32500),\n",
       " sconn(fd=64, family=2, type=1, laddr=('127.0.0.1', 46578), raddr=(), status='LISTEN', pid=32310),\n",
       " sconn(fd=-1, family=2, type=1, laddr=('127.0.0.1', 37032), raddr=('127.0.0.1', 8889), status='FIN_WAIT2', pid=None),\n",
       " sconn(fd=37, family=2, type=1, laddr=('127.0.0.1', 47807), raddr=(), status='LISTEN', pid=32368),\n",
       " sconn(fd=55, family=2, type=1, laddr=('127.0.0.1', 40742), raddr=('127.0.0.1', 33641), status='ESTABLISHED', pid=31910),\n",
       " sconn(fd=47, family=2, type=2, laddr=('0.0.0.0', 16980), raddr=(), status='NONE', pid=26450),\n",
       " sconn(fd=40, family=2, type=1, laddr=('127.0.0.1', 55076), raddr=('127.0.0.1', 46649), status='ESTABLISHED', pid=31910),\n",
       " sconn(fd=53, family=2, type=1, laddr=('127.0.0.1', 36594), raddr=(), status='LISTEN', pid=31861),\n",
       " sconn(fd=8, family=2, type=1, laddr=('127.0.0.1', 8889), raddr=('127.0.0.1', 37032), status='CLOSE_WAIT', pid=32500),\n",
       " sconn(fd=35, family=2, type=1, laddr=('127.0.0.1', 47823), raddr=('127.0.0.1', 39696), status='ESTABLISHED', pid=31910),\n",
       " sconn(fd=17, family=2, type=1, laddr=('127.0.0.1', 8888), raddr=('127.0.0.1', 58276), status='CLOSE_WAIT', pid=31861),\n",
       " sconn(fd=62, family=2, type=1, laddr=('127.0.0.1', 55383), raddr=('127.0.0.1', 43276), status='ESTABLISHED', pid=32238),\n",
       " sconn(fd=71, family=2, type=1, laddr=('127.0.0.1', 47807), raddr=('127.0.0.1', 42004), status='ESTABLISHED', pid=32368),\n",
       " sconn(fd=62, family=2, type=1, laddr=('127.0.0.1', 39251), raddr=('127.0.0.1', 47350), status='ESTABLISHED', pid=31861),\n",
       " sconn(fd=13, family=2, type=1, laddr=('127.0.0.1', 8889), raddr=('127.0.0.1', 36710), status='CLOSE_WAIT', pid=31943),\n",
       " sconn(fd=11, family=2, type=2, laddr=('127.0.0.1', 47381), raddr=(), status='NONE', pid=26450),\n",
       " sconn(fd=3, family=2, type=1, laddr=('127.0.0.1', 8889), raddr=('127.0.0.1', 36854), status='CLOSE_WAIT', pid=32368),\n",
       " sconn(fd=49, family=2, type=1, laddr=('127.0.0.1', 36948), raddr=('127.0.0.1', 37281), status='ESTABLISHED', pid=31910),\n",
       " sconn(fd=8, family=2, type=1, laddr=('127.0.0.1', 8889), raddr=('127.0.0.1', 36704), status='CLOSE_WAIT', pid=31943),\n",
       " sconn(fd=16, family=2, type=1, laddr=('127.0.0.1', 8888), raddr=('127.0.0.1', 58274), status='CLOSE_WAIT', pid=31861),\n",
       " sconn(fd=29, family=2, type=1, laddr=('127.0.0.1', 43031), raddr=(), status='LISTEN', pid=31861),\n",
       " sconn(fd=4, family=2, type=1, laddr=('127.0.0.1', 8889), raddr=(), status='LISTEN', pid=31910),\n",
       " sconn(fd=76, family=2, type=1, laddr=('127.0.0.1', 58282), raddr=('127.0.0.1', 8888), status='ESTABLISHED', pid=31742),\n",
       " sconn(fd=43, family=2, type=1, laddr=('127.0.0.1', 46649), raddr=(), status='LISTEN', pid=32310),\n",
       " sconn(fd=75, family=2, type=1, laddr=('127.0.0.1', 45156), raddr=('127.0.0.1', 56072), status='ESTABLISHED', pid=32500),\n",
       " sconn(fd=12, family=2, type=1, laddr=('127.0.0.1', 8889), raddr=('127.0.0.1', 36794), status='CLOSE_WAIT', pid=32238),\n",
       " sconn(fd=44, family=2, type=1, laddr=('127.0.0.1', 44711), raddr=(), status='LISTEN', pid=32238),\n",
       " sconn(fd=43, family=2, type=1, laddr=('127.0.0.1', 45156), raddr=(), status='LISTEN', pid=32500),\n",
       " sconn(fd=26, family=2, type=1, laddr=('127.0.0.1', 8889), raddr=('127.0.0.1', 37000), status='CLOSE_WAIT', pid=32368),\n",
       " sconn(fd=57, family=2, type=1, laddr=('127.0.0.1', 37689), raddr=(), status='LISTEN', pid=32500),\n",
       " sconn(fd=61, family=2, type=1, laddr=('127.0.0.1', 50935), raddr=(), status='LISTEN', pid=32368),\n",
       " sconn(fd=10, family=2, type=1, laddr=('127.0.0.1', 8889), raddr=('127.0.0.1', 36706), status='CLOSE_WAIT', pid=31943),\n",
       " sconn(fd=67, family=2, type=1, laddr=('127.0.0.1', 39696), raddr=('127.0.0.1', 47823), status='ESTABLISHED', pid=32368),\n",
       " sconn(fd=3, family=2, type=1, laddr=('127.0.0.1', 8889), raddr=('127.0.0.1', 36788), status='CLOSE_WAIT', pid=32238),\n",
       " sconn(fd=108, family=2, type=1, laddr=('10.97.128.170', 36102), raddr=('157.55.56.167', 443), status='ESTABLISHED', pid=26450),\n",
       " sconn(fd=32, family=2, type=1, laddr=('10.97.128.170', 39700), raddr=('65.55.252.167', 443), status='ESTABLISHED', pid=26450),\n",
       " sconn(fd=36, family=2, type=1, laddr=('127.0.0.1', 55383), raddr=(), status='LISTEN', pid=32238),\n",
       " sconn(fd=3, family=2, type=1, laddr=('127.0.0.1', 8889), raddr=('127.0.0.1', 37064), status='ESTABLISHED', pid=31910),\n",
       " sconn(fd=8, family=2, type=1, laddr=('127.0.0.1', 8889), raddr=('127.0.0.1', 36996), status='CLOSE_WAIT', pid=32368),\n",
       " sconn(fd=21, family=2, type=1, laddr=('127.0.0.1', 56422), raddr=(), status='LISTEN', pid=31943),\n",
       " sconn(fd=35, family=2, type=1, laddr=('127.0.0.1', 39251), raddr=(), status='LISTEN', pid=31861),\n",
       " sconn(fd=-1, family=2, type=2, laddr=('0.0.0.0', 631), raddr=(), status='NONE', pid=None),\n",
       " sconn(fd=48, family=2, type=1, laddr=('127.0.0.1', 56072), raddr=('127.0.0.1', 45156), status='ESTABLISHED', pid=31910),\n",
       " sconn(fd=32, family=2, type=1, laddr=('127.0.0.1', 42826), raddr=(), status='LISTEN', pid=31861),\n",
       " sconn(fd=-1, family=2, type=1, laddr=('127.0.0.1', 37030), raddr=('127.0.0.1', 8889), status='FIN_WAIT2', pid=None),\n",
       " sconn(fd=-1, family=10, type=2, laddr=('::', 40231), raddr=(), status='NONE', pid=None),\n",
       " sconn(fd=32, family=2, type=1, laddr=('127.0.0.1', 33728), raddr=('127.0.0.1', 42826), status='ESTABLISHED', pid=31723),\n",
       " sconn(fd=34, family=2, type=1, laddr=('127.0.0.1', 47902), raddr=('127.0.0.1', 48123), status='ESTABLISHED', pid=31910),\n",
       " sconn(fd=33, family=2, type=1, laddr=('127.0.0.1', 43480), raddr=('127.0.0.1', 40704), status='ESTABLISHED', pid=31723),\n",
       " sconn(fd=39, family=2, type=1, laddr=('127.0.0.1', 46422), raddr=('127.0.0.1', 43031), status='ESTABLISHED', pid=31723),\n",
       " sconn(fd=40, family=2, type=1, laddr=('127.0.0.1', 48123), raddr=(), status='LISTEN', pid=32368),\n",
       " sconn(fd=49, family=2, type=1, laddr=('127.0.0.1', 37281), raddr=(), status='LISTEN', pid=32500),\n",
       " sconn(fd=15, family=2, type=1, laddr=('127.0.0.1', 8888), raddr=('127.0.0.1', 58272), status='CLOSE_WAIT', pid=31861),\n",
       " sconn(fd=-1, family=2, type=2, laddr=('0.0.0.0', 68), raddr=(), status='NONE', pid=None),\n",
       " sconn(fd=80, family=2, type=1, laddr=('127.0.0.1', 33641), raddr=('127.0.0.1', 40742), status='ESTABLISHED', pid=32500),\n",
       " sconn(fd=12, family=2, type=1, laddr=('127.0.0.1', 8889), raddr=('127.0.0.1', 36708), status='CLOSE_WAIT', pid=31943),\n",
       " sconn(fd=10, family=2, type=1, laddr=('127.0.0.1', 8888), raddr=('127.0.0.1', 58264), status='CLOSE_WAIT', pid=31861),\n",
       " sconn(fd=27, family=2, type=1, laddr=('127.0.0.1', 56004), raddr=(), status='LISTEN', pid=31943),\n",
       " sconn(fd=51, family=2, type=1, laddr=('127.0.0.1', 41841), raddr=(), status='LISTEN', pid=32310),\n",
       " sconn(fd=8, family=2, type=1, laddr=('127.0.0.1', 8889), raddr=('127.0.0.1', 36944), status='CLOSE_WAIT', pid=32310),\n",
       " sconn(fd=30, family=2, type=1, laddr=('127.0.0.1', 43276), raddr=('127.0.0.1', 55383), status='ESTABLISHED', pid=31910),\n",
       " sconn(fd=3, family=2, type=1, laddr=('127.0.0.1', 8889), raddr=('127.0.0.1', 36702), status='CLOSE_WAIT', pid=31943),\n",
       " sconn(fd=68, family=2, type=1, laddr=('127.0.0.1', 37004), raddr=('127.0.0.1', 8889), status='ESTABLISHED', pid=31742),\n",
       " sconn(fd=-1, family=2, type=1, laddr=('127.0.0.1', 631), raddr=(), status='LISTEN', pid=None),\n",
       " sconn(fd=26, family=2, type=1, laddr=('127.0.0.1', 8889), raddr=('127.0.0.1', 37036), status='CLOSE_WAIT', pid=32500),\n",
       " sconn(fd=-1, family=2, type=1, laddr=('127.0.0.1', 37034), raddr=('127.0.0.1', 8889), status='FIN_WAIT2', pid=None),\n",
       " sconn(fd=8, family=2, type=1, laddr=('127.0.0.1', 8889), raddr=('127.0.0.1', 36790), status='CLOSE_WAIT', pid=32238),\n",
       " sconn(fd=39, family=2, type=1, laddr=('127.0.0.1', 33152), raddr=(), status='LISTEN', pid=32238),\n",
       " sconn(fd=10, family=2, type=1, laddr=('127.0.0.1', 8889), raddr=('127.0.0.1', 36792), status='CLOSE_WAIT', pid=32238),\n",
       " sconn(fd=48, family=2, type=1, laddr=('127.0.0.1', 38096), raddr=(), status='LISTEN', pid=32368),\n",
       " sconn(fd=46, family=2, type=1, laddr=('127.0.0.1', 33730), raddr=(), status='LISTEN', pid=32310),\n",
       " sconn(fd=-1, family=2, type=2, laddr=('127.0.1.1', 53), raddr=(), status='NONE', pid=None),\n",
       " sconn(fd=35, family=2, type=1, laddr=('127.0.0.1', 39886), raddr=(), status='LISTEN', pid=31943),\n",
       " sconn(fd=36, family=2, type=1, laddr=('127.0.0.1', 47350), raddr=('127.0.0.1', 39251), status='ESTABLISHED', pid=31723),\n",
       " sconn(fd=-1, family=2, type=1, laddr=('127.0.1.1', 53), raddr=(), status='LISTEN', pid=None),\n",
       " sconn(fd=37, family=2, type=1, laddr=('127.0.0.1', 43383), raddr=(), status='LISTEN', pid=32310),\n",
       " sconn(fd=86, family=2, type=1, laddr=('10.97.128.170', 50508), raddr=('173.194.220.138', 443), status='ESTABLISHED', pid=31742),\n",
       " sconn(fd=52, family=2, type=1, laddr=('127.0.0.1', 37879), raddr=(), status='LISTEN', pid=32500),\n",
       " sconn(fd=40, family=2, type=1, laddr=('127.0.0.1', 33498), raddr=(), status='LISTEN', pid=31861),\n",
       " sconn(fd=48, family=2, type=1, laddr=('127.0.0.1', 54224), raddr=(), status='LISTEN', pid=31943),\n",
       " sconn(fd=93, family=2, type=1, laddr=('10.97.128.170', 36034), raddr=('91.190.218.53', 12350), status='ESTABLISHED', pid=26450),\n",
       " sconn(fd=46, family=2, type=1, laddr=('127.0.0.1', 33641), raddr=(), status='LISTEN', pid=32500),\n",
       " sconn(fd=58, family=2, type=1, laddr=('127.0.0.1', 42826), raddr=('127.0.0.1', 33728), status='ESTABLISHED', pid=31861),\n",
       " sconn(fd=70, family=2, type=1, laddr=('127.0.0.1', 48287), raddr=('127.0.0.1', 40564), status='ESTABLISHED', pid=32368),\n",
       " sconn(fd=52, family=2, type=1, laddr=('127.0.0.1', 47240), raddr=('127.0.0.1', 37879), status='ESTABLISHED', pid=31910),\n",
       " sconn(fd=45, family=2, type=1, laddr=('127.0.0.1', 8889), raddr=('127.0.0.1', 37040), status='ESTABLISHED', pid=31910),\n",
       " sconn(fd=153, family=2, type=1, laddr=('127.0.0.1', 6942), raddr=(), status='LISTEN', pid=5377),\n",
       " sconn(fd=13, family=2, type=1, laddr=('127.0.0.1', 8888), raddr=('127.0.0.1', 58268), status='CLOSE_WAIT', pid=31861),\n",
       " sconn(fd=34, family=2, type=1, laddr=('127.0.0.1', 39696), raddr=(), status='LISTEN', pid=32368),\n",
       " sconn(fd=41, family=2, type=1, laddr=('0.0.0.0', 16980), raddr=(), status='LISTEN', pid=26450),\n",
       " sconn(fd=25, family=2, type=1, laddr=('127.0.0.1', 8889), raddr=('127.0.0.1', 36798), status='CLOSE_WAIT', pid=32310),\n",
       " sconn(fd=38, family=2, type=1, laddr=('127.0.0.1', 40564), raddr=('127.0.0.1', 48287), status='ESTABLISHED', pid=31910),\n",
       " sconn(fd=30, family=2, type=1, laddr=('127.0.0.1', 54076), raddr=(), status='LISTEN', pid=32238),\n",
       " sconn(fd=42, family=2, type=1, laddr=('127.0.0.1', 42004), raddr=('127.0.0.1', 47807), status='ESTABLISHED', pid=31910),\n",
       " sconn(fd=25, family=2, type=1, laddr=('127.0.0.1', 8889), raddr=('127.0.0.1', 37034), status='CLOSE_WAIT', pid=32500),\n",
       " sconn(fd=-1, family=2, type=2, laddr=('0.0.0.0', 59354), raddr=(), status='NONE', pid=None),\n",
       " sconn(fd=33, family=2, type=1, laddr=('127.0.0.1', 57400), raddr=(), status='LISTEN', pid=32238),\n",
       " sconn(fd=40, family=2, type=1, laddr=('127.0.0.1', 47822), raddr=(), status='LISTEN', pid=32310),\n",
       " sconn(fd=-1, family=2, type=1, laddr=('127.0.0.1', 37036), raddr=('127.0.0.1', 8889), status='FIN_WAIT2', pid=None),\n",
       " sconn(fd=212, family=2, type=1, laddr=('127.0.0.1', 63342), raddr=(), status='LISTEN', pid=5377),\n",
       " sconn(fd=6, family=2, type=1, laddr=('127.0.0.1', 8888), raddr=('127.0.0.1', 58252), status='CLOSE_WAIT', pid=31861),\n",
       " sconn(fd=76, family=2, type=1, laddr=('127.0.0.1', 37281), raddr=('127.0.0.1', 36948), status='ESTABLISHED', pid=32500),\n",
       " sconn(fd=29, family=2, type=1, laddr=('127.0.0.1', 8888), raddr=('127.0.0.1', 58282), status='ESTABLISHED', pid=31723),\n",
       " sconn(fd=25, family=2, type=1, laddr=('127.0.0.1', 8889), raddr=('127.0.0.1', 36998), status='CLOSE_WAIT', pid=32368),\n",
       " sconn(fd=59, family=2, type=1, laddr=('127.0.0.1', 40704), raddr=('127.0.0.1', 43480), status='ESTABLISHED', pid=31861),\n",
       " sconn(fd=63, family=2, type=1, laddr=('127.0.0.1', 43031), raddr=('127.0.0.1', 46422), status='ESTABLISHED', pid=31861),\n",
       " sconn(fd=69, family=2, type=1, laddr=('127.0.0.1', 46649), raddr=('127.0.0.1', 55076), status='ESTABLISHED', pid=32310),\n",
       " sconn(fd=27, family=2, type=1, laddr=('127.0.0.1', 52116), raddr=('127.0.0.1', 56004), status='ESTABLISHED', pid=31910),\n",
       " sconn(fd=43, family=2, type=1, laddr=('127.0.0.1', 48287), raddr=(), status='LISTEN', pid=32368),\n",
       " sconn(fd=14, family=2, type=1, laddr=('127.0.0.1', 8888), raddr=('127.0.0.1', 58270), status='CLOSE_WAIT', pid=31861),\n",
       " sconn(fd=70, family=2, type=1, laddr=('127.0.0.1', 43839), raddr=(), status='LISTEN', pid=32500),\n",
       " sconn(fd=18, family=2, type=1, laddr=('127.0.0.1', 8888), raddr=('127.0.0.1', 58278), status='CLOSE_WAIT', pid=31861),\n",
       " sconn(fd=53, family=2, type=1, laddr=('127.0.0.1', 56004), raddr=('127.0.0.1', 52116), status='ESTABLISHED', pid=31943),\n",
       " sconn(fd=26, family=2, type=1, laddr=('127.0.0.1', 40704), raddr=(), status='LISTEN', pid=31861),\n",
       " sconn(fd=-1, family=10, type=2, laddr=('::', 5353), raddr=(), status='NONE', pid=None),\n",
       " sconn(fd=8, family=2, type=1, laddr=('127.0.0.1', 8888), raddr=('127.0.0.1', 58254), status='CLOSE_WAIT', pid=31861),\n",
       " sconn(fd=74, family=2, type=1, laddr=('127.0.0.1', 37064), raddr=('127.0.0.1', 8889), status='ESTABLISHED', pid=31742),\n",
       " sconn(fd=3, family=2, type=1, laddr=('127.0.0.1', 8888), raddr=(), status='LISTEN', pid=31723),\n",
       " sconn(fd=24, family=2, type=1, laddr=('127.0.0.1', 33476), raddr=(), status='LISTEN', pid=31943),\n",
       " sconn(fd=31, family=2, type=1, laddr=('127.0.0.1', 8889), raddr=('127.0.0.1', 37004), status='ESTABLISHED', pid=32500),\n",
       " sconn(fd=75, family=2, type=1, laddr=('127.0.0.1', 37040), raddr=('127.0.0.1', 8889), status='ESTABLISHED', pid=31742),\n",
       " sconn(fd=57, family=2, type=1, laddr=('127.0.0.1', 57658), raddr=(), status='LISTEN', pid=32238),\n",
       " sconn(fd=66, family=2, type=1, laddr=('127.0.0.1', 48123), raddr=('127.0.0.1', 47902), status='ESTABLISHED', pid=32368),\n",
       " sconn(fd=12, family=2, type=1, laddr=('127.0.0.1', 8888), raddr=('127.0.0.1', 58266), status='CLOSE_WAIT', pid=31861),\n",
       " sconn(fd=79, family=2, type=1, laddr=('127.0.0.1', 37879), raddr=('127.0.0.1', 47240), status='ESTABLISHED', pid=32500),\n",
       " sconn(fd=79, family=2, type=1, laddr=('10.97.128.170', 32958), raddr=('64.233.161.93', 443), status='ESTABLISHED', pid=31742),\n",
       " sconn(fd=30, family=2, type=1, laddr=('127.0.0.1', 51057), raddr=(), status='LISTEN', pid=31943)]"
      ]
     },
     "execution_count": 9,
     "metadata": {},
     "output_type": "execute_result"
    }
   ],
   "source": [
    "psutil.net_connections()"
   ]
  },
  {
   "cell_type": "code",
   "execution_count": 10,
   "metadata": {
    "collapsed": false
   },
   "outputs": [
    {
     "data": {
      "text/plain": [
       "[suser(name='kostanew', terminal='tty7', host='localhost', started=1487710848.0)]"
      ]
     },
     "execution_count": 10,
     "metadata": {},
     "output_type": "execute_result"
    }
   ],
   "source": [
    "psutil.users()"
   ]
  },
  {
   "cell_type": "code",
   "execution_count": 11,
   "metadata": {
    "collapsed": false
   },
   "outputs": [
    {
     "data": {
      "text/plain": [
       "[1,\n",
       " 2,\n",
       " 3,\n",
       " 5,\n",
       " 7,\n",
       " 8,\n",
       " 9,\n",
       " 10,\n",
       " 11,\n",
       " 12,\n",
       " 13,\n",
       " 15,\n",
       " 16,\n",
       " 17,\n",
       " 18,\n",
       " 20,\n",
       " 21,\n",
       " 22,\n",
       " 23,\n",
       " 25,\n",
       " 26,\n",
       " 27,\n",
       " 28,\n",
       " 30,\n",
       " 31,\n",
       " 32,\n",
       " 33,\n",
       " 35,\n",
       " 36,\n",
       " 37,\n",
       " 38,\n",
       " 40,\n",
       " 41,\n",
       " 42,\n",
       " 43,\n",
       " 45,\n",
       " 46,\n",
       " 47,\n",
       " 48,\n",
       " 49,\n",
       " 50,\n",
       " 51,\n",
       " 52,\n",
       " 53,\n",
       " 54,\n",
       " 55,\n",
       " 56,\n",
       " 57,\n",
       " 58,\n",
       " 59,\n",
       " 63,\n",
       " 64,\n",
       " 65,\n",
       " 66,\n",
       " 82,\n",
       " 83,\n",
       " 84,\n",
       " 86,\n",
       " 87,\n",
       " 88,\n",
       " 89,\n",
       " 90,\n",
       " 91,\n",
       " 92,\n",
       " 93,\n",
       " 94,\n",
       " 95,\n",
       " 97,\n",
       " 99,\n",
       " 100,\n",
       " 101,\n",
       " 102,\n",
       " 103,\n",
       " 104,\n",
       " 105,\n",
       " 106,\n",
       " 107,\n",
       " 108,\n",
       " 109,\n",
       " 110,\n",
       " 116,\n",
       " 129,\n",
       " 130,\n",
       " 178,\n",
       " 179,\n",
       " 180,\n",
       " 181,\n",
       " 182,\n",
       " 183,\n",
       " 184,\n",
       " 185,\n",
       " 186,\n",
       " 194,\n",
       " 195,\n",
       " 198,\n",
       " 199,\n",
       " 201,\n",
       " 272,\n",
       " 280,\n",
       " 282,\n",
       " 283,\n",
       " 285,\n",
       " 287,\n",
       " 288,\n",
       " 325,\n",
       " 336,\n",
       " 368,\n",
       " 473,\n",
       " 516,\n",
       " 517,\n",
       " 535,\n",
       " 814,\n",
       " 972,\n",
       " 981,\n",
       " 997,\n",
       " 999,\n",
       " 1013,\n",
       " 1015,\n",
       " 1026,\n",
       " 1032,\n",
       " 1033,\n",
       " 1035,\n",
       " 1111,\n",
       " 1113,\n",
       " 1114,\n",
       " 1188,\n",
       " 1198,\n",
       " 1205,\n",
       " 1257,\n",
       " 1267,\n",
       " 1273,\n",
       " 1276,\n",
       " 1307,\n",
       " 1399,\n",
       " 1448,\n",
       " 1452,\n",
       " 1541,\n",
       " 1542,\n",
       " 1548,\n",
       " 1551,\n",
       " 1553,\n",
       " 1554,\n",
       " 1638,\n",
       " 1646,\n",
       " 1658,\n",
       " 1689,\n",
       " 1691,\n",
       " 1698,\n",
       " 1709,\n",
       " 1718,\n",
       " 1723,\n",
       " 1739,\n",
       " 1741,\n",
       " 1742,\n",
       " 1746,\n",
       " 1749,\n",
       " 1760,\n",
       " 1772,\n",
       " 1774,\n",
       " 1782,\n",
       " 1783,\n",
       " 1786,\n",
       " 1791,\n",
       " 1802,\n",
       " 1834,\n",
       " 1835,\n",
       " 1836,\n",
       " 1837,\n",
       " 1840,\n",
       " 1842,\n",
       " 1843,\n",
       " 1844,\n",
       " 1872,\n",
       " 1882,\n",
       " 1885,\n",
       " 1887,\n",
       " 1888,\n",
       " 1934,\n",
       " 1936,\n",
       " 1945,\n",
       " 1949,\n",
       " 1953,\n",
       " 1960,\n",
       " 1970,\n",
       " 1977,\n",
       " 1984,\n",
       " 1995,\n",
       " 2002,\n",
       " 2008,\n",
       " 2009,\n",
       " 2015,\n",
       " 2040,\n",
       " 2050,\n",
       " 2061,\n",
       " 2064,\n",
       " 2081,\n",
       " 2119,\n",
       " 2147,\n",
       " 2151,\n",
       " 2158,\n",
       " 2160,\n",
       " 2203,\n",
       " 2242,\n",
       " 2280,\n",
       " 2391,\n",
       " 2445,\n",
       " 2469,\n",
       " 2656,\n",
       " 2664,\n",
       " 2836,\n",
       " 5157,\n",
       " 5168,\n",
       " 5170,\n",
       " 5291,\n",
       " 5377,\n",
       " 5435,\n",
       " 14489,\n",
       " 14490,\n",
       " 14499,\n",
       " 14500,\n",
       " 14501,\n",
       " 14502,\n",
       " 14503,\n",
       " 14504,\n",
       " 14505,\n",
       " 14506,\n",
       " 14507,\n",
       " 14508,\n",
       " 14544,\n",
       " 25579,\n",
       " 25607,\n",
       " 25614,\n",
       " 25625,\n",
       " 25646,\n",
       " 25666,\n",
       " 25817,\n",
       " 26031,\n",
       " 26044,\n",
       " 26450,\n",
       " 27076,\n",
       " 28127,\n",
       " 28130,\n",
       " 28132,\n",
       " 28142,\n",
       " 29370,\n",
       " 29375,\n",
       " 29654,\n",
       " 29678,\n",
       " 29680,\n",
       " 29764,\n",
       " 29765,\n",
       " 29767,\n",
       " 29768,\n",
       " 29769,\n",
       " 29820,\n",
       " 29910,\n",
       " 30368,\n",
       " 30577,\n",
       " 31457,\n",
       " 31558,\n",
       " 31600,\n",
       " 31684,\n",
       " 31723,\n",
       " 31742,\n",
       " 31798,\n",
       " 31861,\n",
       " 31900,\n",
       " 31910,\n",
       " 31943,\n",
       " 32074,\n",
       " 32102,\n",
       " 32130,\n",
       " 32147,\n",
       " 32170,\n",
       " 32182,\n",
       " 32227,\n",
       " 32231,\n",
       " 32235,\n",
       " 32238,\n",
       " 32252,\n",
       " 32287,\n",
       " 32306,\n",
       " 32310,\n",
       " 32344,\n",
       " 32368,\n",
       " 32384,\n",
       " 32392,\n",
       " 32393,\n",
       " 32442,\n",
       " 32443,\n",
       " 32465,\n",
       " 32477,\n",
       " 32482,\n",
       " 32483,\n",
       " 32486,\n",
       " 32491,\n",
       " 32494,\n",
       " 32495,\n",
       " 32500,\n",
       " 32512,\n",
       " 32521]"
      ]
     },
     "execution_count": 11,
     "metadata": {},
     "output_type": "execute_result"
    }
   ],
   "source": [
    "psutil.pids()"
   ]
  },
  {
   "cell_type": "code",
   "execution_count": null,
   "metadata": {
    "collapsed": true
   },
   "outputs": [],
   "source": []
  },
  {
   "cell_type": "code",
   "execution_count": null,
   "metadata": {
    "collapsed": true
   },
   "outputs": [],
   "source": []
  }
 ],
 "metadata": {
  "kernelspec": {
   "display_name": "Python 2",
   "language": "python",
   "name": "python2"
  },
  "language_info": {
   "codemirror_mode": {
    "name": "ipython",
    "version": 2
   },
   "file_extension": ".py",
   "mimetype": "text/x-python",
   "name": "python",
   "nbconvert_exporter": "python",
   "pygments_lexer": "ipython2",
   "version": "2.7.12"
  }
 },
 "nbformat": 4,
 "nbformat_minor": 1
}
