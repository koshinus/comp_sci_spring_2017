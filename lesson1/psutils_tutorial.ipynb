{
 "cells": [
  {
   "cell_type": "code",
   "execution_count": 1,
   "metadata": {
    "collapsed": true
   },
   "outputs": [],
   "source": [
    "# https://pypi.python.org/pypi/psutil"
   ]
  },
  {
   "cell_type": "code",
   "execution_count": 2,
   "metadata": {
    "collapsed": false
   },
   "outputs": [
    {
     "ename": "ImportError",
     "evalue": "No module named psutil",
     "output_type": "error",
     "traceback": [
      "\u001b[0;31m---------------------------------------------------------------------------\u001b[0m",
      "\u001b[0;31mImportError\u001b[0m                               Traceback (most recent call last)",
      "\u001b[0;32m<ipython-input-2-6a8fd40a91a2>\u001b[0m in \u001b[0;36m<module>\u001b[0;34m()\u001b[0m\n\u001b[0;32m----> 1\u001b[0;31m \u001b[0;32mimport\u001b[0m \u001b[0mpsutil\u001b[0m\u001b[0;34m\u001b[0m\u001b[0m\n\u001b[0m",
      "\u001b[0;31mImportError\u001b[0m: No module named psutil"
     ]
    }
   ],
   "source": [
    "import psutil"
   ]
  },
  {
   "cell_type": "code",
   "execution_count": 5,
   "metadata": {
    "collapsed": false
   },
   "outputs": [
    {
     "data": {
      "text/plain": [
       "scputimes(user=136.41, nice=2.38, system=36.88, idle=10923.11, iowait=366.48, irq=0.0, softirq=1.11, steal=0.0, guest=0.0, guest_nice=0.0)"
      ]
     },
     "execution_count": 5,
     "metadata": {},
     "output_type": "execute_result"
    }
   ],
   "source": [
    "psutil.cpu_times()"
   ]
  },
  {
   "cell_type": "code",
   "execution_count": 6,
   "metadata": {
    "collapsed": false
   },
   "outputs": [
    {
     "name": "stdout",
     "output_type": "stream",
     "text": [
      "8\n",
      "4\n"
     ]
    }
   ],
   "source": [
    "print psutil.cpu_count()\n",
    "print psutil.cpu_count(logical=False)"
   ]
  },
  {
   "cell_type": "code",
   "execution_count": 7,
   "metadata": {
    "collapsed": false
   },
   "outputs": [
    {
     "name": "stdout",
     "output_type": "stream",
     "text": [
      "svmem(total=8299978752, available=5927919616, percent=28.6, used=2054070272, free=4936962048, active=2279931904, inactive=735612928, buffers=122703872, cached=1186242560, shared=29421568)\n",
      "sswap(total=17179865088, used=0, free=17179865088, percent=0.0, sin=0, sout=0)\n"
     ]
    }
   ],
   "source": [
    "print psutil.virtual_memory()\n",
    "print psutil.swap_memory()"
   ]
  },
  {
   "cell_type": "code",
   "execution_count": 8,
   "metadata": {
    "collapsed": false
   },
   "outputs": [
    {
     "data": {
      "text/plain": [
       "[sdiskpart(device='/dev/sda3', mountpoint='/', fstype='ext4', opts='rw,relatime,errors=remount-ro,data=ordered'),\n",
       " sdiskpart(device='/dev/sda1', mountpoint='/boot/efi', fstype='vfat', opts='rw,relatime,fmask=0077,dmask=0077,codepage=437,iocharset=iso8859-1,shortname=mixed,errors=remount-ro')]"
      ]
     },
     "execution_count": 8,
     "metadata": {},
     "output_type": "execute_result"
    }
   ],
   "source": [
    "psutil.disk_partitions()"
   ]
  },
  {
   "cell_type": "code",
   "execution_count": 20,
   "metadata": {
    "collapsed": false
   },
   "outputs": [
    {
     "data": {
      "text/plain": [
       "1.7"
      ]
     },
     "execution_count": 20,
     "metadata": {},
     "output_type": "execute_result"
    }
   ],
   "source": [
    "psutil.cpu_percent()"
   ]
  },
  {
   "cell_type": "code",
   "execution_count": 21,
   "metadata": {
    "collapsed": false
   },
   "outputs": [
    {
     "data": {
      "text/plain": [
       "sdiskusage(total=422623494144, used=351965659136, free=49166221312, percent=87.7)"
      ]
     },
     "execution_count": 21,
     "metadata": {},
     "output_type": "execute_result"
    }
   ],
   "source": [
    "psutil.disk_usage('/')"
   ]
  },
  {
   "cell_type": "code",
   "execution_count": 22,
   "metadata": {
    "collapsed": false
   },
   "outputs": [
    {
     "data": {
      "text/plain": [
       "[sconn(fd=-1, family=2, type=1, laddr=('10.0.3.1', 53), raddr=(), status='LISTEN', pid=None),\n",
       " sconn(fd=56, family=2, type=1, laddr=('127.0.0.1', 41063), raddr=('127.0.0.1', 44222), status='ESTABLISHED', pid=2846),\n",
       " sconn(fd=-1, family=10, type=2, laddr=('fe80::8cd8:cdff:fe4f:124b', 53), raddr=(), status='NONE', pid=None),\n",
       " sconn(fd=78, family=2, type=1, laddr=('127.0.0.1', 59827), raddr=('127.0.0.1', 45030), status='ESTABLISHED', pid=2899),\n",
       " sconn(fd=39, family=2, type=1, laddr=('127.0.0.1', 39535), raddr=(), status='LISTEN', pid=2846),\n",
       " sconn(fd=57, family=2, type=1, laddr=('127.0.0.1', 55050), raddr=('127.0.0.1', 46878), status='ESTABLISHED', pid=2846),\n",
       " sconn(fd=47, family=2, type=1, laddr=('127.0.0.1', 39934), raddr=('127.0.0.1', 47452), status='ESTABLISHED', pid=2478),\n",
       " sconn(fd=71, family=2, type=1, laddr=('127.0.0.1', 47452), raddr=('127.0.0.1', 39934), status='ESTABLISHED', pid=2884),\n",
       " sconn(fd=-1, family=2, type=1, laddr=('10.42.0.1', 53), raddr=(), status='LISTEN', pid=None),\n",
       " sconn(fd=-1, family=10, type=2, laddr=('::', 42356), raddr=(), status='NONE', pid=None),\n",
       " sconn(fd=-1, family=2, type=2, laddr=('0.0.0.0', 5353), raddr=(), status='NONE', pid=None),\n",
       " sconn(fd=3, family=2, type=1, laddr=('127.0.0.1', 8888), raddr=(), status='LISTEN', pid=2478),\n",
       " sconn(fd=80, family=2, type=1, laddr=('127.0.0.1', 40061), raddr=('127.0.0.1', 54150), status='ESTABLISHED', pid=2899),\n",
       " sconn(fd=49, family=2, type=1, laddr=('127.0.0.1', 55218), raddr=('127.0.0.1', 8888), status='ESTABLISHED', pid=2501),\n",
       " sconn(fd=12, family=2, type=1, laddr=('127.0.0.1', 8888), raddr=('127.0.0.1', 55162), status='ESTABLISHED', pid=2899),\n",
       " sconn(fd=54, family=2, type=1, laddr=('127.0.0.1', 45030), raddr=('127.0.0.1', 59827), status='ESTABLISHED', pid=2478),\n",
       " sconn(fd=50, family=2, type=1, laddr=('127.0.0.1', 55162), raddr=('127.0.0.1', 8888), status='ESTABLISHED', pid=2501),\n",
       " sconn(fd=-1, family=2, type=2, laddr=('0.0.0.0', 44924), raddr=(), status='NONE', pid=None),\n",
       " sconn(fd=55, family=2, type=1, laddr=('127.0.0.1', 50344), raddr=('127.0.0.1', 60200), status='ESTABLISHED', pid=2846),\n",
       " sconn(fd=58, family=2, type=1, laddr=('127.0.0.1', 50788), raddr=('127.0.0.1', 40374), status='ESTABLISHED', pid=2846),\n",
       " sconn(fd=77, family=2, type=1, laddr=('127.0.0.1', 59699), raddr=('127.0.0.1', 54100), status='ESTABLISHED', pid=2899),\n",
       " sconn(fd=32, family=2, type=1, laddr=('127.0.0.1', 8888), raddr=('127.0.0.1', 55174), status='CLOSE_WAIT', pid=2899),\n",
       " sconn(fd=41, family=2, type=1, laddr=('127.0.0.1', 40388), raddr=('127.0.0.1', 44515), status='ESTABLISHED', pid=2478),\n",
       " sconn(fd=31, family=2, type=1, laddr=('127.0.0.1', 41063), raddr=(), status='LISTEN', pid=2846),\n",
       " sconn(fd=-1, family=2, type=2, laddr=('10.42.0.1', 53), raddr=(), status='NONE', pid=None),\n",
       " sconn(fd=72, family=2, type=1, laddr=('127.0.0.1', 34970), raddr=(), status='LISTEN', pid=2899),\n",
       " sconn(fd=24, family=2, type=1, laddr=('127.0.0.1', 60200), raddr=('127.0.0.1', 50344), status='ESTABLISHED', pid=2478),\n",
       " sconn(fd=-1, family=10, type=1, laddr=('fe80::8cd8:cdff:fe4f:124b', 53), raddr=(), status='LISTEN', pid=None),\n",
       " sconn(fd=57, family=2, type=1, laddr=('127.0.0.1', 52650), raddr=('127.0.0.1', 58610), status='ESTABLISHED', pid=2478),\n",
       " sconn(fd=30, family=2, type=1, laddr=('127.0.0.1', 40374), raddr=('127.0.0.1', 50788), status='ESTABLISHED', pid=2478),\n",
       " sconn(fd=-1, family=2, type=2, laddr=('0.0.0.0', 631), raddr=(), status='NONE', pid=None),\n",
       " sconn(fd=61, family=2, type=1, laddr=('127.0.0.1', 38547), raddr=(), status='LISTEN', pid=2899),\n",
       " sconn(fd=79, family=2, type=1, laddr=('127.0.0.1', 58610), raddr=('127.0.0.1', 52650), status='ESTABLISHED', pid=2899),\n",
       " sconn(fd=41, family=2, type=1, laddr=('127.0.0.1', 47452), raddr=(), status='LISTEN', pid=2884),\n",
       " sconn(fd=53, family=2, type=1, laddr=('127.0.0.1', 54100), raddr=('127.0.0.1', 59699), status='ESTABLISHED', pid=2478),\n",
       " sconn(fd=34, family=2, type=1, laddr=('127.0.0.1', 8888), raddr=('127.0.0.1', 55178), status='CLOSE_WAIT', pid=2899),\n",
       " sconn(fd=53, family=2, type=1, laddr=('127.0.0.1', 59827), raddr=(), status='LISTEN', pid=2899),\n",
       " sconn(fd=31, family=2, type=1, laddr=('127.0.0.1', 8888), raddr=('127.0.0.1', 55172), status='CLOSE_WAIT', pid=2899),\n",
       " sconn(fd=34, family=2, type=1, laddr=('127.0.0.1', 55050), raddr=(), status='LISTEN', pid=2846),\n",
       " sconn(fd=50, family=2, type=1, laddr=('127.0.0.1', 40061), raddr=(), status='LISTEN', pid=2899),\n",
       " sconn(fd=-1, family=10, type=2, laddr=('::', 5353), raddr=(), status='NONE', pid=None),\n",
       " sconn(fd=33, family=2, type=1, laddr=('127.0.0.1', 8888), raddr=('127.0.0.1', 55176), status='CLOSE_WAIT', pid=2899),\n",
       " sconn(fd=50, family=2, type=1, laddr=('127.0.0.1', 8888), raddr=('127.0.0.1', 55202), status='ESTABLISHED', pid=2478),\n",
       " sconn(fd=6, family=2, type=1, laddr=('127.0.0.1', 8888), raddr=('127.0.0.1', 55218), status='ESTABLISHED', pid=2478),\n",
       " sconn(fd=25, family=2, type=1, laddr=('127.0.0.1', 50344), raddr=(), status='LISTEN', pid=2846),\n",
       " sconn(fd=47, family=2, type=1, laddr=('127.0.0.1', 37085), raddr=(), status='LISTEN', pid=2884),\n",
       " sconn(fd=27, family=2, type=1, laddr=('127.0.0.1', 46878), raddr=('127.0.0.1', 55050), status='ESTABLISHED', pid=2478),\n",
       " sconn(fd=51, family=2, type=1, laddr=('127.0.0.1', 49651), raddr=(), status='LISTEN', pid=2846),\n",
       " sconn(fd=28, family=2, type=1, laddr=('127.0.0.1', 50788), raddr=(), status='LISTEN', pid=2846),\n",
       " sconn(fd=47, family=2, type=1, laddr=('127.0.0.1', 59699), raddr=(), status='LISTEN', pid=2899),\n",
       " sconn(fd=6, family=2, type=1, laddr=('127.0.0.1', 8888), raddr=('127.0.0.1', 55146), status='CLOSE_WAIT', pid=2846),\n",
       " sconn(fd=70, family=2, type=1, laddr=('127.0.0.1', 37085), raddr=('127.0.0.1', 53942), status='ESTABLISHED', pid=2884),\n",
       " sconn(fd=60, family=2, type=1, laddr=('127.0.0.1', 54150), raddr=('127.0.0.1', 40061), status='ESTABLISHED', pid=2478),\n",
       " sconn(fd=68, family=2, type=1, laddr=('127.0.0.1', 39954), raddr=('127.0.0.1', 33746), status='ESTABLISHED', pid=2884),\n",
       " sconn(fd=52, family=2, type=1, laddr=('127.0.0.1', 44466), raddr=(), status='LISTEN', pid=2884),\n",
       " sconn(fd=38, family=2, type=1, laddr=('127.0.0.1', 44515), raddr=(), status='LISTEN', pid=2884),\n",
       " sconn(fd=56, family=2, type=1, laddr=('127.0.0.1', 58610), raddr=(), status='LISTEN', pid=2899),\n",
       " sconn(fd=-1, family=2, type=2, laddr=('10.0.3.1', 53), raddr=(), status='NONE', pid=None),\n",
       " sconn(fd=44, family=2, type=1, laddr=('127.0.0.1', 53942), raddr=('127.0.0.1', 37085), status='ESTABLISHED', pid=2478),\n",
       " sconn(fd=63, family=2, type=1, laddr=('127.0.0.1', 60657), raddr=(), status='LISTEN', pid=2884),\n",
       " sconn(fd=44, family=2, type=1, laddr=('127.0.0.1', 39954), raddr=(), status='LISTEN', pid=2884),\n",
       " sconn(fd=58, family=2, type=1, laddr=('127.0.0.1', 55202), raddr=('127.0.0.1', 8888), status='ESTABLISHED', pid=2501),\n",
       " sconn(fd=40, family=2, type=1, laddr=('127.0.0.1', 33746), raddr=('127.0.0.1', 39954), status='ESTABLISHED', pid=2478),\n",
       " sconn(fd=69, family=2, type=1, laddr=('127.0.0.1', 44515), raddr=('127.0.0.1', 40388), status='ESTABLISHED', pid=2884),\n",
       " sconn(fd=-1, family=2, type=2, laddr=('0.0.0.0', 67), raddr=(), status='NONE', pid=None),\n",
       " sconn(fd=37, family=2, type=1, laddr=('127.0.0.1', 8888), raddr=('127.0.0.1', 55182), status='ESTABLISHED', pid=2899),\n",
       " sconn(fd=6, family=2, type=1, laddr=('127.0.0.1', 8888), raddr=('127.0.0.1', 55170), status='CLOSE_WAIT', pid=2899),\n",
       " sconn(fd=23, family=2, type=1, laddr=('127.0.0.1', 44222), raddr=('127.0.0.1', 41063), status='ESTABLISHED', pid=2478),\n",
       " sconn(fd=51, family=2, type=1, laddr=('127.0.0.1', 55182), raddr=('127.0.0.1', 8888), status='ESTABLISHED', pid=2501)]"
      ]
     },
     "execution_count": 22,
     "metadata": {},
     "output_type": "execute_result"
    }
   ],
   "source": [
    "psutil.net_connections()"
   ]
  },
  {
   "cell_type": "code",
   "execution_count": 23,
   "metadata": {
    "collapsed": false
   },
   "outputs": [
    {
     "data": {
      "text/plain": [
       "[suser(name='kostanew', terminal='tty7', host='localhost', started=1480683776.0),\n",
       " suser(name='kostanew', terminal='pts/6', host='localhost', started=1480685056.0)]"
      ]
     },
     "execution_count": 23,
     "metadata": {},
     "output_type": "execute_result"
    }
   ],
   "source": [
    "psutil.users()"
   ]
  },
  {
   "cell_type": "code",
   "execution_count": 24,
   "metadata": {
    "collapsed": false
   },
   "outputs": [
    {
     "data": {
      "text/plain": [
       "[1,\n",
       " 2,\n",
       " 3,\n",
       " 4,\n",
       " 5,\n",
       " 7,\n",
       " 8,\n",
       " 9,\n",
       " 10,\n",
       " 11,\n",
       " 12,\n",
       " 13,\n",
       " 14,\n",
       " 15,\n",
       " 16,\n",
       " 17,\n",
       " 18,\n",
       " 20,\n",
       " 21,\n",
       " 22,\n",
       " 23,\n",
       " 25,\n",
       " 26,\n",
       " 27,\n",
       " 28,\n",
       " 29,\n",
       " 30,\n",
       " 31,\n",
       " 32,\n",
       " 33,\n",
       " 34,\n",
       " 35,\n",
       " 36,\n",
       " 37,\n",
       " 38,\n",
       " 40,\n",
       " 41,\n",
       " 42,\n",
       " 43,\n",
       " 44,\n",
       " 45,\n",
       " 46,\n",
       " 47,\n",
       " 48,\n",
       " 49,\n",
       " 50,\n",
       " 51,\n",
       " 52,\n",
       " 53,\n",
       " 54,\n",
       " 55,\n",
       " 56,\n",
       " 57,\n",
       " 58,\n",
       " 59,\n",
       " 60,\n",
       " 64,\n",
       " 66,\n",
       " 67,\n",
       " 68,\n",
       " 69,\n",
       " 85,\n",
       " 86,\n",
       " 88,\n",
       " 89,\n",
       " 90,\n",
       " 91,\n",
       " 92,\n",
       " 93,\n",
       " 94,\n",
       " 95,\n",
       " 96,\n",
       " 97,\n",
       " 98,\n",
       " 99,\n",
       " 100,\n",
       " 101,\n",
       " 102,\n",
       " 103,\n",
       " 104,\n",
       " 105,\n",
       " 106,\n",
       " 107,\n",
       " 108,\n",
       " 109,\n",
       " 110,\n",
       " 111,\n",
       " 113,\n",
       " 117,\n",
       " 130,\n",
       " 131,\n",
       " 180,\n",
       " 181,\n",
       " 182,\n",
       " 183,\n",
       " 184,\n",
       " 185,\n",
       " 186,\n",
       " 187,\n",
       " 188,\n",
       " 189,\n",
       " 190,\n",
       " 191,\n",
       " 192,\n",
       " 198,\n",
       " 200,\n",
       " 201,\n",
       " 203,\n",
       " 206,\n",
       " 207,\n",
       " 209,\n",
       " 215,\n",
       " 216,\n",
       " 291,\n",
       " 294,\n",
       " 295,\n",
       " 296,\n",
       " 298,\n",
       " 313,\n",
       " 315,\n",
       " 332,\n",
       " 338,\n",
       " 343,\n",
       " 346,\n",
       " 360,\n",
       " 369,\n",
       " 483,\n",
       " 484,\n",
       " 503,\n",
       " 602,\n",
       " 683,\n",
       " 830,\n",
       " 921,\n",
       " 923,\n",
       " 924,\n",
       " 927,\n",
       " 930,\n",
       " 937,\n",
       " 944,\n",
       " 948,\n",
       " 961,\n",
       " 964,\n",
       " 969,\n",
       " 1009,\n",
       " 1013,\n",
       " 1015,\n",
       " 1016,\n",
       " 1022,\n",
       " 1100,\n",
       " 1141,\n",
       " 1149,\n",
       " 1157,\n",
       " 1186,\n",
       " 1203,\n",
       " 1268,\n",
       " 1433,\n",
       " 1472,\n",
       " 1499,\n",
       " 1503,\n",
       " 1529,\n",
       " 1625,\n",
       " 1661,\n",
       " 1709,\n",
       " 1711,\n",
       " 1717,\n",
       " 1720,\n",
       " 1722,\n",
       " 1723,\n",
       " 1804,\n",
       " 1812,\n",
       " 1824,\n",
       " 1847,\n",
       " 1849,\n",
       " 1860,\n",
       " 1868,\n",
       " 1883,\n",
       " 1887,\n",
       " 1892,\n",
       " 1901,\n",
       " 1902,\n",
       " 1906,\n",
       " 1915,\n",
       " 1927,\n",
       " 1939,\n",
       " 1941,\n",
       " 1949,\n",
       " 1950,\n",
       " 1955,\n",
       " 1960,\n",
       " 1973,\n",
       " 1976,\n",
       " 1978,\n",
       " 1979,\n",
       " 1980,\n",
       " 1983,\n",
       " 1987,\n",
       " 1989,\n",
       " 1990,\n",
       " 1991,\n",
       " 1999,\n",
       " 2029,\n",
       " 2030,\n",
       " 2045,\n",
       " 2081,\n",
       " 2091,\n",
       " 2108,\n",
       " 2109,\n",
       " 2112,\n",
       " 2113,\n",
       " 2114,\n",
       " 2130,\n",
       " 2138,\n",
       " 2147,\n",
       " 2152,\n",
       " 2165,\n",
       " 2171,\n",
       " 2185,\n",
       " 2192,\n",
       " 2197,\n",
       " 2212,\n",
       " 2231,\n",
       " 2240,\n",
       " 2242,\n",
       " 2256,\n",
       " 2296,\n",
       " 2300,\n",
       " 2307,\n",
       " 2309,\n",
       " 2355,\n",
       " 2388,\n",
       " 2409,\n",
       " 2418,\n",
       " 2438,\n",
       " 2478,\n",
       " 2496,\n",
       " 2501,\n",
       " 2534,\n",
       " 2577,\n",
       " 2588,\n",
       " 2601,\n",
       " 2603,\n",
       " 2673,\n",
       " 2749,\n",
       " 2768,\n",
       " 2827,\n",
       " 2837,\n",
       " 2846,\n",
       " 2884,\n",
       " 2899,\n",
       " 2930,\n",
       " 2939,\n",
       " 2962,\n",
       " 2969,\n",
       " 3001,\n",
       " 3016,\n",
       " 3018,\n",
       " 3035,\n",
       " 3046,\n",
       " 3056,\n",
       " 3088,\n",
       " 3106,\n",
       " 3108,\n",
       " 3119,\n",
       " 3126,\n",
       " 3132,\n",
       " 3145,\n",
       " 3159,\n",
       " 3164,\n",
       " 3168,\n",
       " 3184,\n",
       " 3242,\n",
       " 3265,\n",
       " 3296,\n",
       " 3311,\n",
       " 3327]"
      ]
     },
     "execution_count": 24,
     "metadata": {},
     "output_type": "execute_result"
    }
   ],
   "source": [
    "psutil.pids()"
   ]
  },
  {
   "cell_type": "code",
   "execution_count": null,
   "metadata": {
    "collapsed": true
   },
   "outputs": [],
   "source": []
  }
 ],
 "metadata": {
  "kernelspec": {
   "display_name": "Python 2",
   "language": "python",
   "name": "python2"
  },
  "language_info": {
   "codemirror_mode": {
    "name": "ipython",
    "version": 2
   },
   "file_extension": ".py",
   "mimetype": "text/x-python",
   "name": "python",
   "nbconvert_exporter": "python",
   "pygments_lexer": "ipython2",
   "version": "2.7.12"
  }
 },
 "nbformat": 4,
 "nbformat_minor": 1
}
