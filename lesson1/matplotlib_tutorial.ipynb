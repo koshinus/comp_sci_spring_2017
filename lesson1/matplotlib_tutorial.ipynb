{
 "cells": [
  {
   "cell_type": "code",
   "execution_count": 1,
   "metadata": {
    "collapsed": true
   },
   "outputs": [],
   "source": [
    "import matplotlib.pylab as plt\n",
    "%matplotlib tk"
   ]
  },
  {
   "cell_type": "code",
   "execution_count": 2,
   "metadata": {
    "collapsed": false
   },
   "outputs": [
    {
     "data": {
      "text/plain": [
       "[<matplotlib.lines.Line2D at 0x7f2b32394ed0>]"
      ]
     },
     "execution_count": 2,
     "metadata": {},
     "output_type": "execute_result"
    }
   ],
   "source": [
    "plt.plot([1,2,3])"
   ]
  },
  {
   "cell_type": "code",
   "execution_count": 3,
   "metadata": {
    "collapsed": true
   },
   "outputs": [],
   "source": [
    "%matplotlib inline"
   ]
  },
  {
   "cell_type": "code",
   "execution_count": 4,
   "metadata": {
    "collapsed": false
   },
   "outputs": [
    {
     "data": {
      "text/plain": [
       "[<matplotlib.lines.Line2D at 0x7f2b322e4a10>]"
      ]
     },
     "execution_count": 4,
     "metadata": {},
     "output_type": "execute_result"
    },
    {
     "data": {
      "image/png": "[encoded data removed]",
      "text/plain": [
       "<matplotlib.figure.Figure at 0x7f2b37418390>"
      ]
     },
     "metadata": {},
     "output_type": "display_data"
    }
   ],
   "source": [
    "plt.plot([1,2,3])"
   ]
  },
  {
   "cell_type": "code",
   "execution_count": 5,
   "metadata": {
    "collapsed": false
   },
   "outputs": [
    {
     "name": "stdout",
     "output_type": "stream",
     "text": [
      "Warning: Cannot change to a different GUI toolkit: notebook. Using tk instead.\n"
     ]
    },
    {
     "data": {
      "text/plain": [
       "[<matplotlib.lines.Line2D at 0x7f2b3222add0>]"
      ]
     },
     "execution_count": 5,
     "metadata": {},
     "output_type": "execute_result"
    }
   ],
   "source": [
    "%matplotlib notebook\n",
    "plt.plot([1,2,3])"
   ]
  },
  {
   "cell_type": "code",
   "execution_count": 6,
   "metadata": {
    "collapsed": false
   },
   "outputs": [
    {
     "name": "stdout",
     "output_type": "stream",
     "text": [
      "Using matplotlib backend: TkAgg\n",
      "Populating the interactive namespace from numpy and matplotlib\n"
     ]
    },
    {
     "name": "stderr",
     "output_type": "stream",
     "text": [
      "/usr/local/lib/python2.7/dist-packages/IPython/core/magics/pylab.py:161: UserWarning: pylab import has clobbered these variables: ['plt']\n",
      "`%matplotlib` prevents importing * from pylab and numpy\n",
      "  \"\\n`%matplotlib` prevents importing * from pylab and numpy\"\n"
     ]
    }
   ],
   "source": [
    "%pylab"
   ]
  },
  {
   "cell_type": "code",
   "execution_count": 7,
   "metadata": {
    "collapsed": false
   },
   "outputs": [
    {
     "data": {
      "text/plain": [
       "(array([   1.,    0.,    0.,    0.,    1.,    2.,    1.,    0.,    1.,\n",
       "           2.,    3.,    4.,    5.,    2.,    9.,    8.,    7.,   12.,\n",
       "          15.,   16.,   20.,   25.,   28.,   48.,   44.,   49.,   59.,\n",
       "          74.,   76.,   82.,   78.,  121.,  129.,  133.,  153.,  174.,\n",
       "         186.,  199.,  208.,  260.,  227.,  276.,  289.,  280.,  262.,\n",
       "         280.,  348.,  311.,  337.,  341.,  312.,  281.,  314.,  301.,\n",
       "         307.,  281.,  262.,  265.,  238.,  211.,  214.,  198.,  189.,\n",
       "         180.,  151.,  141.,  139.,  122.,  115.,   86.,   70.,   58.,\n",
       "          53.,   43.,   53.,   35.,   36.,   23.,   30.,   21.,   16.,\n",
       "          15.,   16.,   13.,    8.,    3.,    3.,    2.,    3.,    2.,\n",
       "           0.,    2.,    0.,    0.,    0.,    0.,    0.,    1.,    0.,    1.]),\n",
       " array([-3.96836151, -3.88847729, -3.80859306, -3.72870884, -3.64882461,\n",
       "        -3.56894038, -3.48905616, -3.40917193, -3.32928771, -3.24940348,\n",
       "        -3.16951925, -3.08963503, -3.0097508 , -2.92986658, -2.84998235,\n",
       "        -2.77009812, -2.6902139 , -2.61032967, -2.53044545, -2.45056122,\n",
       "        -2.37067699, -2.29079277, -2.21090854, -2.13102432, -2.05114009,\n",
       "        -1.97125586, -1.89137164, -1.81148741, -1.73160319, -1.65171896,\n",
       "        -1.57183473, -1.49195051, -1.41206628, -1.33218206, -1.25229783,\n",
       "        -1.1724136 , -1.09252938, -1.01264515, -0.93276093, -0.8528767 ,\n",
       "        -0.77299247, -0.69310825, -0.61322402, -0.5333398 , -0.45345557,\n",
       "        -0.37357134, -0.29368712, -0.21380289, -0.13391867, -0.05403444,\n",
       "         0.02584979,  0.10573401,  0.18561824,  0.26550246,  0.34538669,\n",
       "         0.42527092,  0.50515514,  0.58503937,  0.66492359,  0.74480782,\n",
       "         0.82469205,  0.90457627,  0.9844605 ,  1.06434472,  1.14422895,\n",
       "         1.22411318,  1.3039974 ,  1.38388163,  1.46376585,  1.54365008,\n",
       "         1.62353431,  1.70341853,  1.78330276,  1.86318698,  1.94307121,\n",
       "         2.02295544,  2.10283966,  2.18272389,  2.26260811,  2.34249234,\n",
       "         2.42237657,  2.50226079,  2.58214502,  2.66202924,  2.74191347,\n",
       "         2.8217977 ,  2.90168192,  2.98156615,  3.06145037,  3.1413346 ,\n",
       "         3.22121883,  3.30110305,  3.38098728,  3.4608715 ,  3.54075573,\n",
       "         3.62063996,  3.70052418,  3.78040841,  3.86029263,  3.94017686,\n",
       "         4.02006109]),\n",
       " <a list of 100 Patch objects>)"
      ]
     },
     "execution_count": 7,
     "metadata": {},
     "output_type": "execute_result"
    }
   ],
   "source": [
    "x = randn(10000)\n",
    "hist(x, 100)"
   ]
  },
  {
   "cell_type": "code",
   "execution_count": 8,
   "metadata": {
    "collapsed": false
   },
   "outputs": [
    {
     "name": "stdout",
     "output_type": "stream",
     "text": [
      "Available matplotlib backends: ['osx', 'qt4', 'qt5', 'gtk3', 'notebook', 'wx', 'qt', 'nbagg', 'gtk', 'tk', 'inline']\n"
     ]
    }
   ],
   "source": [
    "%matplotlib --list"
   ]
  },
  {
   "cell_type": "code",
   "execution_count": 9,
   "metadata": {
    "collapsed": false
   },
   "outputs": [
    {
     "name": "stdout",
     "output_type": "stream",
     "text": [
      "Warning: Cannot change to a different GUI toolkit: notebook. Using tk instead.\n"
     ]
    }
   ],
   "source": [
    "%matplotlib notebook"
   ]
  },
  {
   "cell_type": "code",
   "execution_count": null,
   "metadata": {
    "collapsed": true
   },
   "outputs": [],
   "source": []
  }
 ],
 "metadata": {
  "kernelspec": {
   "display_name": "Python 2",
   "language": "python",
   "name": "python2"
  },
  "language_info": {
   "codemirror_mode": {
    "name": "ipython",
    "version": 2
   },
   "file_extension": ".py",
   "mimetype": "text/x-python",
   "name": "python",
   "nbconvert_exporter": "python",
   "pygments_lexer": "ipython2",
   "version": "2.7.12"
  }
 },
 "nbformat": 4,
 "nbformat_minor": 1
}
