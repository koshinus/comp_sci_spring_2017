{
 "cells": [
  {
   "cell_type": "code",
   "execution_count": 1,
   "metadata": {
    "collapsed": true
   },
   "outputs": [],
   "source": [
    "import matplotlib.pylab as plt\n",
    "%matplotlib tk"
   ]
  },
  {
   "cell_type": "code",
   "execution_count": 2,
   "metadata": {
    "collapsed": false
   },
   "outputs": [
    {
     "data": {
      "text/plain": [
       "[<matplotlib.lines.Line2D at 0x7f7f981b4150>]"
      ]
     },
     "execution_count": 2,
     "metadata": {},
     "output_type": "execute_result"
    }
   ],
   "source": [
    "plt.plot([1,2,3])"
   ]
  },
  {
   "cell_type": "code",
   "execution_count": 3,
   "metadata": {
    "collapsed": true
   },
   "outputs": [],
   "source": [
    "%matplotlib inline"
   ]
  },
  {
   "cell_type": "code",
   "execution_count": 4,
   "metadata": {
    "collapsed": false
   },
   "outputs": [
    {
     "data": {
      "text/plain": [
       "[<matplotlib.lines.Line2D at 0x7f7f9808bd90>]"
      ]
     },
     "execution_count": 4,
     "metadata": {},
     "output_type": "execute_result"
    },
    {
     "data": {
      "image/png": "[encoded data removed]",
      "text/plain": [
       "<matplotlib.figure.Figure at 0x7f7f98179a50>"
      ]
     },
     "metadata": {},
     "output_type": "display_data"
    }
   ],
   "source": [
    "plt.plot([1,2,3])"
   ]
  },
  {
   "cell_type": "code",
   "execution_count": 5,
   "metadata": {
    "collapsed": false
   },
   "outputs": [
    {
     "name": "stdout",
     "output_type": "stream",
     "text": [
      "Warning: Cannot change to a different GUI toolkit: notebook. Using tk instead.\n"
     ]
    },
    {
     "data": {
      "text/plain": [
       "[<matplotlib.lines.Line2D at 0x7f7f97ed70d0>]"
      ]
     },
     "execution_count": 5,
     "metadata": {},
     "output_type": "execute_result"
    }
   ],
   "source": [
    "%matplotlib notebook\n",
    "plt.plot([1,2,3])"
   ]
  },
  {
   "cell_type": "code",
   "execution_count": 6,
   "metadata": {
    "collapsed": false
   },
   "outputs": [
    {
     "name": "stdout",
     "output_type": "stream",
     "text": [
      "Using matplotlib backend: TkAgg\n",
      "Populating the interactive namespace from numpy and matplotlib\n"
     ]
    },
    {
     "name": "stderr",
     "output_type": "stream",
     "text": [
      "/usr/local/lib/python2.7/dist-packages/IPython/core/magics/pylab.py:161: UserWarning: pylab import has clobbered these variables: ['plt']\n",
      "`%matplotlib` prevents importing * from pylab and numpy\n",
      "  \"\\n`%matplotlib` prevents importing * from pylab and numpy\"\n"
     ]
    }
   ],
   "source": [
    "%pylab"
   ]
  },
  {
   "cell_type": "code",
   "execution_count": 7,
   "metadata": {
    "collapsed": false
   },
   "outputs": [
    {
     "data": {
      "text/plain": [
       "(array([   1.,    0.,    0.,    0.,    0.,    0.,    0.,    1.,    0.,\n",
       "           1.,    2.,    1.,    1.,    1.,    1.,    2.,    2.,    2.,\n",
       "           2.,    4.,    6.,   11.,   14.,   10.,   21.,   19.,   24.,\n",
       "          23.,   31.,   51.,   52.,   60.,   45.,   82.,   81.,   96.,\n",
       "         103.,  124.,  116.,  143.,  155.,  159.,  172.,  201.,  208.,\n",
       "         213.,  255.,  254.,  264.,  249.,  300.,  286.,  302.,  350.,\n",
       "         342.,  321.,  282.,  316.,  324.,  292.,  319.,  248.,  244.,\n",
       "         264.,  244.,  212.,  194.,  219.,  169.,  174.,  161.,  163.,\n",
       "         128.,  109.,  105.,   97.,   99.,   79.,   61.,   41.,   45.,\n",
       "          44.,   39.,   33.,   23.,   10.,   24.,   11.,   11.,   10.,\n",
       "          10.,    6.,    8.,    4.,    5.,    4.,    3.,    1.,    0.,    1.]),\n",
       " array([-4.29091752, -4.21393948, -4.13696145, -4.05998342, -3.98300538,\n",
       "        -3.90602735, -3.82904932, -3.75207128, -3.67509325, -3.59811521,\n",
       "        -3.52113718, -3.44415915, -3.36718111, -3.29020308, -3.21322505,\n",
       "        -3.13624701, -3.05926898, -2.98229095, -2.90531291, -2.82833488,\n",
       "        -2.75135684, -2.67437881, -2.59740078, -2.52042274, -2.44344471,\n",
       "        -2.36646668, -2.28948864, -2.21251061, -2.13553257, -2.05855454,\n",
       "        -1.98157651, -1.90459847, -1.82762044, -1.75064241, -1.67366437,\n",
       "        -1.59668634, -1.5197083 , -1.44273027, -1.36575224, -1.2887742 ,\n",
       "        -1.21179617, -1.13481814, -1.0578401 , -0.98086207, -0.90388403,\n",
       "        -0.826906  , -0.74992797, -0.67294993, -0.5959719 , -0.51899387,\n",
       "        -0.44201583, -0.3650378 , -0.28805976, -0.21108173, -0.1341037 ,\n",
       "        -0.05712566,  0.01985237,  0.0968304 ,  0.17380844,  0.25078647,\n",
       "         0.32776451,  0.40474254,  0.48172057,  0.55869861,  0.63567664,\n",
       "         0.71265467,  0.78963271,  0.86661074,  0.94358878,  1.02056681,\n",
       "         1.09754484,  1.17452288,  1.25150091,  1.32847894,  1.40545698,\n",
       "         1.48243501,  1.55941304,  1.63639108,  1.71336911,  1.79034715,\n",
       "         1.86732518,  1.94430321,  2.02128125,  2.09825928,  2.17523731,\n",
       "         2.25221535,  2.32919338,  2.40617142,  2.48314945,  2.56012748,\n",
       "         2.63710552,  2.71408355,  2.79106158,  2.86803962,  2.94501765,\n",
       "         3.02199569,  3.09897372,  3.17595175,  3.25292979,  3.32990782,\n",
       "         3.40688585]),\n",
       " <a list of 100 Patch objects>)"
      ]
     },
     "execution_count": 7,
     "metadata": {},
     "output_type": "execute_result"
    }
   ],
   "source": [
    "x = randn(10000)\n",
    "hist(x, 100)"
   ]
  },
  {
   "cell_type": "code",
   "execution_count": 8,
   "metadata": {
    "collapsed": false
   },
   "outputs": [
    {
     "name": "stdout",
     "output_type": "stream",
     "text": [
      "Available matplotlib backends: ['osx', 'qt4', 'qt5', 'gtk3', 'notebook', 'wx', 'qt', 'nbagg', 'gtk', 'tk', 'inline']\n"
     ]
    }
   ],
   "source": [
    "%matplotlib --list"
   ]
  },
  {
   "cell_type": "code",
   "execution_count": 9,
   "metadata": {
    "collapsed": false
   },
   "outputs": [
    {
     "name": "stdout",
     "output_type": "stream",
     "text": [
      "Warning: Cannot change to a different GUI toolkit: notebook. Using tk instead.\n"
     ]
    }
   ],
   "source": [
    "%matplotlib notebook"
   ]
  },
  {
   "cell_type": "code",
   "execution_count": 11,
   "metadata": {
    "collapsed": true
   },
   "outputs": [],
   "source": [
    "import matplotlib.pyplot as plt\n",
    "%matplotlib inline"
   ]
  },
  {
   "cell_type": "code",
   "execution_count": 15,
   "metadata": {
    "collapsed": false
   },
   "outputs": [
    {
     "data": {
      "text/plain": [
       "[<matplotlib.lines.Line2D at 0x7f7f975ce690>]"
      ]
     },
     "execution_count": 15,
     "metadata": {},
     "output_type": "execute_result"
    },
    {
     "data": {
      "image/png": "[encoded data removed]",
      "text/plain": [
       "<matplotlib.figure.Figure at 0x7f7f97652390>"
      ]
     },
     "metadata": {},
     "output_type": "display_data"
    }
   ],
   "source": [
    "plt.plot([12,3,4], [4,3,4])"
   ]
  },
  {
   "cell_type": "code",
   "execution_count": 16,
   "metadata": {
    "collapsed": false
   },
   "outputs": [
    {
     "data": {
      "text/plain": [
       "<matplotlib.collections.PathCollection at 0x7f7f97570410>"
      ]
     },
     "execution_count": 16,
     "metadata": {},
     "output_type": "execute_result"
    },
    {
     "data": {
      "image/png": "[encoded data removed]",
      "text/plain": [
       "<matplotlib.figure.Figure at 0x7f7f97608f50>"
      ]
     },
     "metadata": {},
     "output_type": "display_data"
    }
   ],
   "source": [
    "\n",
    "plt.scatter([1,2,3], [6,7,8])"
   ]
  },
  {
   "cell_type": "code",
   "execution_count": null,
   "metadata": {
    "collapsed": true
   },
   "outputs": [],
   "source": []
  }
 ],
 "metadata": {
  "kernelspec": {
   "display_name": "Python 2",
   "language": "python",
   "name": "python2"
  },
  "language_info": {
   "codemirror_mode": {
    "name": "ipython",
    "version": 2
   },
   "file_extension": ".py",
   "mimetype": "text/x-python",
   "name": "python",
   "nbconvert_exporter": "python",
   "pygments_lexer": "ipython2",
   "version": "2.7.12"
  }
 },
 "nbformat": 4,
 "nbformat_minor": 1
}
