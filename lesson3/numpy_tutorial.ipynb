{
 "cells": [
  {
   "cell_type": "code",
   "execution_count": 221,
   "metadata": {
    "collapsed": true
   },
   "outputs": [],
   "source": [
    "import numpy as np\n",
    "import matplotlib.pylab as plt\n",
    "%matplotlib inline"
   ]
  },
  {
   "cell_type": "code",
   "execution_count": 222,
   "metadata": {
    "collapsed": false
   },
   "outputs": [
    {
     "data": {
      "text/plain": [
       "array([1, 2, 3, 4, 5])"
      ]
     },
     "execution_count": 222,
     "metadata": {},
     "output_type": "execute_result"
    }
   ],
   "source": [
    "np.array([1,2,3,4,5])"
   ]
  },
  {
   "cell_type": "code",
   "execution_count": 223,
   "metadata": {
    "collapsed": false
   },
   "outputs": [
    {
     "data": {
      "text/plain": [
       "array([[1, 2],\n",
       "       [2, 1]])"
      ]
     },
     "execution_count": 223,
     "metadata": {},
     "output_type": "execute_result"
    }
   ],
   "source": [
    "A = np.array([[1,2], [2,1]])\n",
    "A"
   ]
  },
  {
   "cell_type": "code",
   "execution_count": 224,
   "metadata": {
    "collapsed": false
   },
   "outputs": [
    {
     "data": {
      "text/plain": [
       "matrix([[1, 2],\n",
       "        [2, 1]])"
      ]
     },
     "execution_count": 224,
     "metadata": {},
     "output_type": "execute_result"
    }
   ],
   "source": [
    "B = np.mat([[1,2], [2,1]])\n",
    "B"
   ]
  },
  {
   "cell_type": "code",
   "execution_count": 225,
   "metadata": {
    "collapsed": false
   },
   "outputs": [
    {
     "name": "stdout",
     "output_type": "stream",
     "text": [
      "[[11 22]\n",
      " [22 11]]\n",
      "\n",
      "[[11 22]\n",
      " [22 11]]\n"
     ]
    }
   ],
   "source": [
    "print 11*A \n",
    "print \n",
    "print 11*B"
   ]
  },
  {
   "cell_type": "code",
   "execution_count": 226,
   "metadata": {
    "collapsed": false
   },
   "outputs": [
    {
     "name": "stdout",
     "output_type": "stream",
     "text": [
      "[[1 4]\n",
      " [4 1]]\n",
      "\n",
      "[[5 4]\n",
      " [4 5]]\n"
     ]
    }
   ],
   "source": [
    "print A*A \n",
    "print \n",
    "print B*B"
   ]
  },
  {
   "cell_type": "code",
   "execution_count": 227,
   "metadata": {
    "collapsed": false
   },
   "outputs": [
    {
     "name": "stdout",
     "output_type": "stream",
     "text": [
      "[[1 4]\n",
      " [4 1]]\n",
      "\n",
      "[[5 4]\n",
      " [4 5]]\n"
     ]
    }
   ],
   "source": [
    "print A**2 \n",
    "print \n",
    "print B**2"
   ]
  },
  {
   "cell_type": "code",
   "execution_count": 228,
   "metadata": {
    "collapsed": false
   },
   "outputs": [
    {
     "name": "stdout",
     "output_type": "stream",
     "text": [
      "[ 1.  1.  1.  1.  1.  1.  1.  1.  1.  1.]\n",
      "[ 0.  0.  0.  0.  0.  0.  0.  0.  0.  0.]\n",
      "[ 3.  3.  3.  3.  3.  3.  3.  3.  3.  3.]\n",
      "[[ 1.  0.  0.  0.]\n",
      " [ 0.  1.  0.  0.]\n",
      " [ 0.  0.  1.  0.]\n",
      " [ 0.  0.  0.  1.]]\n"
     ]
    }
   ],
   "source": [
    "print np.ones(10)\n",
    "print np.zeros(10)\n",
    "print np.full(10,3.)\n",
    "print np.eye(4)"
   ]
  },
  {
   "cell_type": "code",
   "execution_count": 229,
   "metadata": {
    "collapsed": false
   },
   "outputs": [
    {
     "data": {
      "text/plain": [
       "(array([1, 2, 3]), array([-3,  5, -1]))"
      ]
     },
     "execution_count": 229,
     "metadata": {},
     "output_type": "execute_result"
    },
    {
     "data": {
      "image/png": "[encoded data removed]",
      "text/plain": [
       "<matplotlib.figure.Figure at 0x7f6f3b7237d0>"
      ]
     },
     "metadata": {},
     "output_type": "display_data"
    }
   ],
   "source": [
    "points_x = np.array([1,2,3])\n",
    "points_y = np.array([-3,5,-1])\n",
    "plt.scatter(points_x, points_y)\n",
    "points_x, points_y"
   ]
  },
  {
   "cell_type": "code",
   "execution_count": 230,
   "metadata": {
    "collapsed": false
   },
   "outputs": [
    {
     "data": {
      "text/plain": [
       "matrix([[1, 1, 1],\n",
       "        [1, 2, 4],\n",
       "        [1, 3, 9]])"
      ]
     },
     "execution_count": 230,
     "metadata": {},
     "output_type": "execute_result"
    }
   ],
   "source": [
    "A = np.matrix(np.vstack([points_x**0, points_x**1, points_x**2]).T)\n",
    "A"
   ]
  },
  {
   "cell_type": "code",
   "execution_count": 231,
   "metadata": {
    "collapsed": false
   },
   "outputs": [
    {
     "data": {
      "text/plain": [
       "matrix([[-3],\n",
       "        [ 5],\n",
       "        [-1]])"
      ]
     },
     "execution_count": 231,
     "metadata": {},
     "output_type": "execute_result"
    }
   ],
   "source": [
    "y = np.matrix(points_y).T\n",
    "y"
   ]
  },
  {
   "cell_type": "code",
   "execution_count": 233,
   "metadata": {
    "collapsed": false
   },
   "outputs": [
    {
     "data": {
      "text/plain": [
       "matrix([[-25.],\n",
       "        [ 29.],\n",
       "        [ -7.]])"
      ]
     },
     "execution_count": 233,
     "metadata": {},
     "output_type": "execute_result"
    }
   ],
   "source": [
    "a = np.linalg.solve(A, y)\n",
    "a"
   ]
  },
  {
   "cell_type": "code",
   "execution_count": 234,
   "metadata": {
    "collapsed": false
   },
   "outputs": [
    {
     "data": {
      "text/plain": [
       "matrix([[-3.],\n",
       "        [ 5.],\n",
       "        [-1.]])"
      ]
     },
     "execution_count": 234,
     "metadata": {},
     "output_type": "execute_result"
    }
   ],
   "source": [
    "np.dot(A,a)"
   ]
  },
  {
   "cell_type": "code",
   "execution_count": 235,
   "metadata": {
    "collapsed": false
   },
   "outputs": [
    {
     "data": {
      "text/plain": [
       "<matplotlib.collections.PathCollection at 0x7f6f3b658f10>"
      ]
     },
     "execution_count": 235,
     "metadata": {},
     "output_type": "execute_result"
    },
    {
     "data": {
      "image/png": "[encoded data removed]",
      "text/plain": [
       "<matplotlib.figure.Figure at 0x7f6f3b658ed0>"
      ]
     },
     "metadata": {},
     "output_type": "display_data"
    }
   ],
   "source": [
    "viz_x_ = np.linspace(1,3,100)\n",
    "viz_y_ = a[2,0]*viz_x_**2 + a[1,0]*viz_x_ + a[0,0]\n",
    "plt.plot(viz_x_, viz_y_)\n",
    "plt.scatter(points_x, points_y)"
   ]
  },
  {
   "cell_type": "code",
   "execution_count": null,
   "metadata": {
    "collapsed": true
   },
   "outputs": [],
   "source": []
  },
  {
   "cell_type": "code",
   "execution_count": null,
   "metadata": {
    "collapsed": true
   },
   "outputs": [],
   "source": []
  },
  {
   "cell_type": "code",
   "execution_count": null,
   "metadata": {
    "collapsed": true
   },
   "outputs": [],
   "source": []
  },
  {
   "cell_type": "code",
   "execution_count": 237,
   "metadata": {
    "collapsed": false
   },
   "outputs": [
    {
     "data": {
      "text/plain": [
       "<matplotlib.collections.PathCollection at 0x7f6f3b3b9f50>"
      ]
     },
     "execution_count": 237,
     "metadata": {},
     "output_type": "execute_result"
    },
    {
     "data": {
      "image/png": "[encoded data removed]",
      "text/plain": [
       "<matplotlib.figure.Figure at 0x7f6f3b4ca110>"
      ]
     },
     "metadata": {},
     "output_type": "display_data"
    }
   ],
   "source": [
    "points_x = np.array(np.linspace(-100,100,100))  #np.array(np.linspace(-100,100,100))\n",
    "points_y_real = 2*points_x**2 - 34*points_x + 4 \n",
    "points_y = points_y_real + np.random.normal(0,4000,len(points_y_real))\n",
    "plt.scatter(points_x, points_y)"
   ]
  },
  {
   "cell_type": "code",
   "execution_count": 238,
   "metadata": {
    "collapsed": true
   },
   "outputs": [
    {
     "data": {
      "text/plain": [
       "array([-100.        ,  -97.97979798,  -95.95959596,  -93.93939394,\n",
       "        -91.91919192,  -89.8989899 ,  -87.87878788,  -85.85858586,\n",
       "        -83.83838384,  -81.81818182,  -79.7979798 ,  -77.77777778,\n",
       "        -75.75757576,  -73.73737374,  -71.71717172,  -69.6969697 ,\n",
       "        -67.67676768,  -65.65656566,  -63.63636364,  -61.61616162,\n",
       "        -59.5959596 ,  -57.57575758,  -55.55555556,  -53.53535354,\n",
       "        -51.51515152,  -49.49494949,  -47.47474747,  -45.45454545,\n",
       "        -43.43434343,  -41.41414141,  -39.39393939,  -37.37373737,\n",
       "        -35.35353535,  -33.33333333,  -31.31313131,  -29.29292929,\n",
       "        -27.27272727,  -25.25252525,  -23.23232323,  -21.21212121,\n",
       "        -19.19191919,  -17.17171717,  -15.15151515,  -13.13131313,\n",
       "        -11.11111111,   -9.09090909,   -7.07070707,   -5.05050505,\n",
       "         -3.03030303,   -1.01010101,    1.01010101,    3.03030303,\n",
       "          5.05050505,    7.07070707,    9.09090909,   11.11111111,\n",
       "         13.13131313,   15.15151515,   17.17171717,   19.19191919,\n",
       "         21.21212121,   23.23232323,   25.25252525,   27.27272727,\n",
       "         29.29292929,   31.31313131,   33.33333333,   35.35353535,\n",
       "         37.37373737,   39.39393939,   41.41414141,   43.43434343,\n",
       "         45.45454545,   47.47474747,   49.49494949,   51.51515152,\n",
       "         53.53535354,   55.55555556,   57.57575758,   59.5959596 ,\n",
       "         61.61616162,   63.63636364,   65.65656566,   67.67676768,\n",
       "         69.6969697 ,   71.71717172,   73.73737374,   75.75757576,\n",
       "         77.77777778,   79.7979798 ,   81.81818182,   83.83838384,\n",
       "         85.85858586,   87.87878788,   89.8989899 ,   91.91919192,\n",
       "         93.93939394,   95.95959596,   97.97979798,  100.        ])"
      ]
     },
     "execution_count": 238,
     "metadata": {},
     "output_type": "execute_result"
    }
   ],
   "source": [
    "points_x**1"
   ]
  },
  {
   "cell_type": "code",
   "execution_count": 240,
   "metadata": {
    "collapsed": true
   },
   "outputs": [
    {
     "data": {
      "text/plain": [
       "matrix([[  1.00000000e+00,  -1.00000000e+02,   1.00000000e+04],\n",
       "        [  1.00000000e+00,  -9.79797980e+01,   9.60004081e+03],\n",
       "        [  1.00000000e+00,  -9.59595960e+01,   9.20824406e+03],\n",
       "        [  1.00000000e+00,  -9.39393939e+01,   8.82460973e+03],\n",
       "        [  1.00000000e+00,  -9.19191919e+01,   8.44913784e+03],\n",
       "        [  1.00000000e+00,  -8.98989899e+01,   8.08182838e+03],\n",
       "        [  1.00000000e+00,  -8.78787879e+01,   7.72268136e+03],\n",
       "        [  1.00000000e+00,  -8.58585859e+01,   7.37169677e+03],\n",
       "        [  1.00000000e+00,  -8.38383838e+01,   7.02887460e+03],\n",
       "        [  1.00000000e+00,  -8.18181818e+01,   6.69421488e+03],\n",
       "        [  1.00000000e+00,  -7.97979798e+01,   6.36771758e+03],\n",
       "        [  1.00000000e+00,  -7.77777778e+01,   6.04938272e+03],\n",
       "        [  1.00000000e+00,  -7.57575758e+01,   5.73921028e+03],\n",
       "        [  1.00000000e+00,  -7.37373737e+01,   5.43720029e+03],\n",
       "        [  1.00000000e+00,  -7.17171717e+01,   5.14335272e+03],\n",
       "        [  1.00000000e+00,  -6.96969697e+01,   4.85766758e+03],\n",
       "        [  1.00000000e+00,  -6.76767677e+01,   4.58014488e+03],\n",
       "        [  1.00000000e+00,  -6.56565657e+01,   4.31078461e+03],\n",
       "        [  1.00000000e+00,  -6.36363636e+01,   4.04958678e+03],\n",
       "        [  1.00000000e+00,  -6.16161616e+01,   3.79655137e+03],\n",
       "        [  1.00000000e+00,  -5.95959596e+01,   3.55167840e+03],\n",
       "        [  1.00000000e+00,  -5.75757576e+01,   3.31496786e+03],\n",
       "        [  1.00000000e+00,  -5.55555556e+01,   3.08641975e+03],\n",
       "        [  1.00000000e+00,  -5.35353535e+01,   2.86603408e+03],\n",
       "        [  1.00000000e+00,  -5.15151515e+01,   2.65381084e+03],\n",
       "        [  1.00000000e+00,  -4.94949495e+01,   2.44975003e+03],\n",
       "        [  1.00000000e+00,  -4.74747475e+01,   2.25385165e+03],\n",
       "        [  1.00000000e+00,  -4.54545455e+01,   2.06611570e+03],\n",
       "        [  1.00000000e+00,  -4.34343434e+01,   1.88654219e+03],\n",
       "        [  1.00000000e+00,  -4.14141414e+01,   1.71513111e+03],\n",
       "        [  1.00000000e+00,  -3.93939394e+01,   1.55188246e+03],\n",
       "        [  1.00000000e+00,  -3.73737374e+01,   1.39679625e+03],\n",
       "        [  1.00000000e+00,  -3.53535354e+01,   1.24987246e+03],\n",
       "        [  1.00000000e+00,  -3.33333333e+01,   1.11111111e+03],\n",
       "        [  1.00000000e+00,  -3.13131313e+01,   9.80512193e+02],\n",
       "        [  1.00000000e+00,  -2.92929293e+01,   8.58075707e+02],\n",
       "        [  1.00000000e+00,  -2.72727273e+01,   7.43801653e+02],\n",
       "        [  1.00000000e+00,  -2.52525253e+01,   6.37690032e+02],\n",
       "        [  1.00000000e+00,  -2.32323232e+01,   5.39740843e+02],\n",
       "        [  1.00000000e+00,  -2.12121212e+01,   4.49954086e+02],\n",
       "        [  1.00000000e+00,  -1.91919192e+01,   3.68329762e+02],\n",
       "        [  1.00000000e+00,  -1.71717172e+01,   2.94867871e+02],\n",
       "        [  1.00000000e+00,  -1.51515152e+01,   2.29568411e+02],\n",
       "        [  1.00000000e+00,  -1.31313131e+01,   1.72431385e+02],\n",
       "        [  1.00000000e+00,  -1.11111111e+01,   1.23456790e+02],\n",
       "        [  1.00000000e+00,  -9.09090909e+00,   8.26446281e+01],\n",
       "        [  1.00000000e+00,  -7.07070707e+00,   4.99948985e+01],\n",
       "        [  1.00000000e+00,  -5.05050505e+00,   2.55076013e+01],\n",
       "        [  1.00000000e+00,  -3.03030303e+00,   9.18273646e+00],\n",
       "        [  1.00000000e+00,  -1.01010101e+00,   1.02030405e+00],\n",
       "        [  1.00000000e+00,   1.01010101e+00,   1.02030405e+00],\n",
       "        [  1.00000000e+00,   3.03030303e+00,   9.18273646e+00],\n",
       "        [  1.00000000e+00,   5.05050505e+00,   2.55076013e+01],\n",
       "        [  1.00000000e+00,   7.07070707e+00,   4.99948985e+01],\n",
       "        [  1.00000000e+00,   9.09090909e+00,   8.26446281e+01],\n",
       "        [  1.00000000e+00,   1.11111111e+01,   1.23456790e+02],\n",
       "        [  1.00000000e+00,   1.31313131e+01,   1.72431385e+02],\n",
       "        [  1.00000000e+00,   1.51515152e+01,   2.29568411e+02],\n",
       "        [  1.00000000e+00,   1.71717172e+01,   2.94867871e+02],\n",
       "        [  1.00000000e+00,   1.91919192e+01,   3.68329762e+02],\n",
       "        [  1.00000000e+00,   2.12121212e+01,   4.49954086e+02],\n",
       "        [  1.00000000e+00,   2.32323232e+01,   5.39740843e+02],\n",
       "        [  1.00000000e+00,   2.52525253e+01,   6.37690032e+02],\n",
       "        [  1.00000000e+00,   2.72727273e+01,   7.43801653e+02],\n",
       "        [  1.00000000e+00,   2.92929293e+01,   8.58075707e+02],\n",
       "        [  1.00000000e+00,   3.13131313e+01,   9.80512193e+02],\n",
       "        [  1.00000000e+00,   3.33333333e+01,   1.11111111e+03],\n",
       "        [  1.00000000e+00,   3.53535354e+01,   1.24987246e+03],\n",
       "        [  1.00000000e+00,   3.73737374e+01,   1.39679625e+03],\n",
       "        [  1.00000000e+00,   3.93939394e+01,   1.55188246e+03],\n",
       "        [  1.00000000e+00,   4.14141414e+01,   1.71513111e+03],\n",
       "        [  1.00000000e+00,   4.34343434e+01,   1.88654219e+03],\n",
       "        [  1.00000000e+00,   4.54545455e+01,   2.06611570e+03],\n",
       "        [  1.00000000e+00,   4.74747475e+01,   2.25385165e+03],\n",
       "        [  1.00000000e+00,   4.94949495e+01,   2.44975003e+03],\n",
       "        [  1.00000000e+00,   5.15151515e+01,   2.65381084e+03],\n",
       "        [  1.00000000e+00,   5.35353535e+01,   2.86603408e+03],\n",
       "        [  1.00000000e+00,   5.55555556e+01,   3.08641975e+03],\n",
       "        [  1.00000000e+00,   5.75757576e+01,   3.31496786e+03],\n",
       "        [  1.00000000e+00,   5.95959596e+01,   3.55167840e+03],\n",
       "        [  1.00000000e+00,   6.16161616e+01,   3.79655137e+03],\n",
       "        [  1.00000000e+00,   6.36363636e+01,   4.04958678e+03],\n",
       "        [  1.00000000e+00,   6.56565657e+01,   4.31078461e+03],\n",
       "        [  1.00000000e+00,   6.76767677e+01,   4.58014488e+03],\n",
       "        [  1.00000000e+00,   6.96969697e+01,   4.85766758e+03],\n",
       "        [  1.00000000e+00,   7.17171717e+01,   5.14335272e+03],\n",
       "        [  1.00000000e+00,   7.37373737e+01,   5.43720029e+03],\n",
       "        [  1.00000000e+00,   7.57575758e+01,   5.73921028e+03],\n",
       "        [  1.00000000e+00,   7.77777778e+01,   6.04938272e+03],\n",
       "        [  1.00000000e+00,   7.97979798e+01,   6.36771758e+03],\n",
       "        [  1.00000000e+00,   8.18181818e+01,   6.69421488e+03],\n",
       "        [  1.00000000e+00,   8.38383838e+01,   7.02887460e+03],\n",
       "        [  1.00000000e+00,   8.58585859e+01,   7.37169677e+03],\n",
       "        [  1.00000000e+00,   8.78787879e+01,   7.72268136e+03],\n",
       "        [  1.00000000e+00,   8.98989899e+01,   8.08182838e+03],\n",
       "        [  1.00000000e+00,   9.19191919e+01,   8.44913784e+03],\n",
       "        [  1.00000000e+00,   9.39393939e+01,   8.82460973e+03],\n",
       "        [  1.00000000e+00,   9.59595960e+01,   9.20824406e+03],\n",
       "        [  1.00000000e+00,   9.79797980e+01,   9.60004081e+03],\n",
       "        [  1.00000000e+00,   1.00000000e+02,   1.00000000e+04]])"
      ]
     },
     "execution_count": 240,
     "metadata": {},
     "output_type": "execute_result"
    }
   ],
   "source": [
    "A = np.matrix(np.vstack([points_x**0, points_x**1, points_x**2]).T)\n",
    "A"
   ]
  },
  {
   "cell_type": "code",
   "execution_count": 241,
   "metadata": {
    "collapsed": true
   },
   "outputs": [
    {
     "data": {
      "text/plain": [
       "((100, 1), matrix([[  2.75523580e+04],\n",
       "         [  2.42724264e+04],\n",
       "         [  2.36557043e+04],\n",
       "         [  2.31523200e+04],\n",
       "         [  2.18319606e+04],\n",
       "         [  1.95957995e+04],\n",
       "         [  2.17889947e+04],\n",
       "         [  2.22274051e+04],\n",
       "         [  1.55425977e+04],\n",
       "         [  1.96139564e+04],\n",
       "         [  1.02533273e+04],\n",
       "         [  1.40125780e+04],\n",
       "         [  1.02019955e+04],\n",
       "         [  1.79414452e+04],\n",
       "         [  1.13829658e+04],\n",
       "         [  1.13715269e+04],\n",
       "         [  1.28117385e+04],\n",
       "         [  8.10522092e+03],\n",
       "         [  1.35693420e+04],\n",
       "         [  1.03662834e+04],\n",
       "         [  1.15757145e+04],\n",
       "         [  1.34165657e+04],\n",
       "         [  1.26537210e+04],\n",
       "         [  6.38133876e+03],\n",
       "         [  5.39268482e+03],\n",
       "         [  8.21399141e+03],\n",
       "         [  8.71270331e+03],\n",
       "         [  4.66862547e+03],\n",
       "         [  1.18591689e+04],\n",
       "         [  1.18945857e+03],\n",
       "         [ -1.97331794e+03],\n",
       "         [  8.49321039e+03],\n",
       "         [  1.55748381e+03],\n",
       "         [  1.15162518e+04],\n",
       "         [  1.95105092e+03],\n",
       "         [  5.82898205e+03],\n",
       "         [  4.80103660e+03],\n",
       "         [  5.67098569e+03],\n",
       "         [  4.02738371e+03],\n",
       "         [  1.82804001e+03],\n",
       "         [ -4.93961145e+03],\n",
       "         [ -1.48442485e+01],\n",
       "         [ -6.51318431e+03],\n",
       "         [ -4.31868517e+02],\n",
       "         [ -3.02023672e+03],\n",
       "         [ -4.00431193e+03],\n",
       "         [  4.37085863e+03],\n",
       "         [  2.43208796e+03],\n",
       "         [  1.54874131e+03],\n",
       "         [  4.69710651e+02],\n",
       "         [  7.74818394e+03],\n",
       "         [ -1.51270514e+03],\n",
       "         [  4.24288741e+02],\n",
       "         [  1.22627011e+03],\n",
       "         [ -2.06700490e+03],\n",
       "         [  2.54638025e+03],\n",
       "         [ -8.69772665e+02],\n",
       "         [ -5.21413653e+03],\n",
       "         [  2.26686921e+03],\n",
       "         [  5.48998401e+03],\n",
       "         [ -1.22344613e+03],\n",
       "         [ -1.35852162e+03],\n",
       "         [  7.58168120e+02],\n",
       "         [ -7.53578075e+03],\n",
       "         [  3.90647865e+03],\n",
       "         [ -4.05656701e+02],\n",
       "         [ -5.01690602e+02],\n",
       "         [  1.36495762e+03],\n",
       "         [  4.99275969e+03],\n",
       "         [ -8.92171124e+02],\n",
       "         [ -6.03757182e+03],\n",
       "         [ -6.88196881e+02],\n",
       "         [  4.98685442e+03],\n",
       "         [  1.13963668e+04],\n",
       "         [  1.34147259e+04],\n",
       "         [  1.40497045e+03],\n",
       "         [  7.19443107e+03],\n",
       "         [  3.98857296e+03],\n",
       "         [  6.85339544e+03],\n",
       "         [  4.55868084e+03],\n",
       "         [  9.14118551e+03],\n",
       "         [  4.24092073e+03],\n",
       "         [  8.01434602e+03],\n",
       "         [  1.02936526e+04],\n",
       "         [  1.55755399e+03],\n",
       "         [  1.67926788e+04],\n",
       "         [  1.42196833e+04],\n",
       "         [  9.80741014e+03],\n",
       "         [  6.69171300e+03],\n",
       "         [  6.67657873e+03],\n",
       "         [  8.81550275e+03],\n",
       "         [  9.53952358e+03],\n",
       "         [  1.67388249e+04],\n",
       "         [  8.64436509e+03],\n",
       "         [  6.33620084e+03],\n",
       "         [  1.20946121e+04],\n",
       "         [  8.14597647e+03],\n",
       "         [  1.16395357e+04],\n",
       "         [  1.04921786e+04],\n",
       "         [  1.66118104e+04]]))"
      ]
     },
     "execution_count": 241,
     "metadata": {},
     "output_type": "execute_result"
    }
   ],
   "source": [
    "y = np.matrix(points_y).T\n",
    "y.shape, y"
   ]
  },
  {
   "cell_type": "code",
   "execution_count": 242,
   "metadata": {
    "collapsed": false,
    "scrolled": true
   },
   "outputs": [
    {
     "data": {
      "text/plain": [
       "matrix([[ 455.86014066],\n",
       "        [ -44.90278088],\n",
       "        [   1.95266117]])"
      ]
     },
     "execution_count": 242,
     "metadata": {},
     "output_type": "execute_result"
    }
   ],
   "source": [
    "lhs = A.T*A\n",
    "rhs = A.T*y\n",
    "\n",
    "x = np.linalg.solve(lhs, rhs)\n",
    "x"
   ]
  },
  {
   "cell_type": "code",
   "execution_count": 243,
   "metadata": {
    "collapsed": false
   },
   "outputs": [
    {
     "data": {
      "text/plain": [
       "matrix([[  1.00000000e+02,   5.68434189e-13,   3.40067340e+05],\n",
       "        [  5.68434189e-13,   3.40067340e+05,   1.08266249e-08],\n",
       "        [  3.40067340e+05,   1.08266249e-08,   2.08134675e+09]])"
      ]
     },
     "execution_count": 243,
     "metadata": {},
     "output_type": "execute_result"
    }
   ],
   "source": [
    "lhs"
   ]
  },
  {
   "cell_type": "code",
   "execution_count": 244,
   "metadata": {
    "collapsed": false
   },
   "outputs": [
    {
     "data": {
      "text/plain": [
       "1.9526611689390647"
      ]
     },
     "execution_count": 244,
     "metadata": {},
     "output_type": "execute_result"
    }
   ],
   "source": [
    "x[2,0]"
   ]
  },
  {
   "cell_type": "code",
   "execution_count": 246,
   "metadata": {
    "collapsed": false
   },
   "outputs": [
    {
     "data": {
      "text/plain": [
       "<matplotlib.collections.PathCollection at 0x7f6f3b3c6a10>"
      ]
     },
     "execution_count": 246,
     "metadata": {},
     "output_type": "execute_result"
    },
    {
     "data": {
      "image/png": "[encoded data removed]",
      "text/plain": [
       "<matplotlib.figure.Figure at 0x7f6f3b3c6590>"
      ]
     },
     "metadata": {},
     "output_type": "display_data"
    }
   ],
   "source": [
    "points_y_predict = x[2,0]*points_x**2 + x[1,0]*points_x + x[0,0] \n",
    "plt.plot(points_x, points_y_predict)\n",
    "plt.scatter(points_x, points_y)"
   ]
  },
  {
   "cell_type": "code",
   "execution_count": 129,
   "metadata": {
    "collapsed": false
   },
   "outputs": [
    {
     "data": {
      "text/plain": [
       "(3, 100)"
      ]
     },
     "execution_count": 129,
     "metadata": {},
     "output_type": "execute_result"
    }
   ],
   "source": [
    "A.T.shape"
   ]
  },
  {
   "cell_type": "code",
   "execution_count": 127,
   "metadata": {
    "collapsed": false
   },
   "outputs": [
    {
     "data": {
      "text/plain": [
       "(1, 100)"
      ]
     },
     "execution_count": 127,
     "metadata": {},
     "output_type": "execute_result"
    }
   ],
   "source": [
    "y.shape"
   ]
  },
  {
   "cell_type": "code",
   "execution_count": null,
   "metadata": {
    "collapsed": true
   },
   "outputs": [],
   "source": []
  }
 ],
 "metadata": {
  "kernelspec": {
   "display_name": "Python 2",
   "language": "python",
   "name": "python2"
  },
  "language_info": {
   "codemirror_mode": {
    "name": "ipython",
    "version": 2
   },
   "file_extension": ".py",
   "mimetype": "text/x-python",
   "name": "python",
   "nbconvert_exporter": "python",
   "pygments_lexer": "ipython2",
   "version": "2.7.12"
  }
 },
 "nbformat": 4,
 "nbformat_minor": 2
}
