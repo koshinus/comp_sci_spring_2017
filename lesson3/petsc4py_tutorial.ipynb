{
 "cells": [
  {
   "cell_type": "markdown",
   "metadata": {},
   "source": [
    "Source: https://portal.tacc.utexas.edu/c/document_library/get_file?uuid=c2de5a2a-8e08-4f6e-8d49-2086681520d1&groupId=13601"
   ]
  },
  {
   "cell_type": "code",
   "execution_count": 1,
   "metadata": {
    "collapsed": false
   },
   "outputs": [],
   "source": [
    "import petsc4py, sys\n",
    "\n",
    "import numpy as np\n",
    "from petsc4py import PETSc\n",
    "from matplotlib.pylab import plt\n",
    "import numpy as np\n",
    "%matplotlib inline"
   ]
  },
  {
   "cell_type": "code",
   "execution_count": 3,
   "metadata": {
    "collapsed": false
   },
   "outputs": [
    {
     "data": {
      "text/plain": [
       "<petsc4py.PETSc.Mat at 0x7f8d02365ef0>"
      ]
     },
     "execution_count": 3,
     "metadata": {},
     "output_type": "execute_result"
    }
   ],
   "source": [
    "# grid size and spacing\n",
    "m, n = 32, 32\n",
    "hx = 1.0/(m-1)\n",
    "hy = 1.0/(n-1)\n",
    "# create sparse matrix\n",
    "A = PETSc.Mat().create(PETSc.COMM_WORLD)\n",
    "A.setSizes([m*n, m*n])\n",
    "A.setFromOptions()\n",
    "A.setUp()\n",
    "#A.setType('aij') # sparse"
   ]
  },
  {
   "cell_type": "code",
   "execution_count": 4,
   "metadata": {
    "collapsed": true
   },
   "outputs": [],
   "source": [
    "# precompute values for setting\n",
    "# diagonal and non-diagonal entries\n",
    "diagv = 2.0/hx**2 + 2.0/hy**2\n",
    "offdx = -1.0/hx**2\n",
    "offdy = -1.0/hy**2"
   ]
  },
  {
   "cell_type": "code",
   "execution_count": 5,
   "metadata": {
    "collapsed": true
   },
   "outputs": [],
   "source": [
    "# loop over owned block of rows on this\n",
    "# processor and insert entry values\n",
    "Istart, Iend = A.getOwnershipRange()\n",
    "for I in xrange(Istart, Iend) :\n",
    "    A[I,I] = diagv\n",
    "    i = I//n # map row number to\n",
    "    j = I - i*n # grid coordinates\n",
    "    if i> 0 : J = I-n; A[I,J] = offdx\n",
    "    if i< m-1: J = I+n; A[I,J] = offdx\n",
    "    if j> 0 : J = I-1; A[I,J] = offdy\n",
    "    if j< n-1: J = I+1; A[I,J] = offdy"
   ]
  },
  {
   "cell_type": "code",
   "execution_count": 6,
   "metadata": {
    "collapsed": true
   },
   "outputs": [],
   "source": [
    "# communicate off-processor values\n",
    "# and setup internal data structures\n",
    "# for performing parallel operations\n",
    "A.assemblyBegin()\n",
    "A.assemblyEnd()"
   ]
  },
  {
   "cell_type": "code",
   "execution_count": 7,
   "metadata": {
    "collapsed": false
   },
   "outputs": [],
   "source": [
    "ksp = PETSc.KSP()\n",
    "ksp.create(PETSc.COMM_WORLD)\n",
    "ksp.setType('cg')"
   ]
  },
  {
   "cell_type": "code",
   "execution_count": 8,
   "metadata": {
    "collapsed": false
   },
   "outputs": [],
   "source": [
    "x, b = A.getVecs()\n",
    "x.set(0.)"
   ]
  },
  {
   "cell_type": "code",
   "execution_count": 10,
   "metadata": {
    "collapsed": true
   },
   "outputs": [],
   "source": [
    "x, b = A.getVecs()\n",
    "x.set(0)\n",
    "b.set(1)"
   ]
  },
  {
   "cell_type": "code",
   "execution_count": 11,
   "metadata": {
    "collapsed": true
   },
   "outputs": [],
   "source": [
    "# and next solve\n",
    "ksp.setOperators(A)\n",
    "ksp.setFromOptions()\n",
    "ksp.solve(b, x)"
   ]
  },
  {
   "cell_type": "code",
   "execution_count": 12,
   "metadata": {
    "collapsed": false
   },
   "outputs": [
    {
     "data": {
      "image/png": "[encoded data removed]",
      "text/plain": [
       "<matplotlib.figure.Figure at 0x7f8cff24bf10>"
      ]
     },
     "metadata": {},
     "output_type": "display_data"
    }
   ],
   "source": [
    "X, Y = np.mgrid[0:1:1j*m,0:1:1j*n]\n",
    "Z = x[...].reshape(m,n)\n",
    "plt.figure()\n",
    "plt.contourf(X,Y,Z)\n",
    "plt.plot(X.ravel(),Y.ravel(),'.k')\n",
    "plt.axis('equal')\n",
    "plt.colorbar()\n",
    "plt.show()"
   ]
  },
  {
   "cell_type": "code",
   "execution_count": 14,
   "metadata": {
    "collapsed": false
   },
   "outputs": [],
   "source": []
  },
  {
   "cell_type": "code",
   "execution_count": null,
   "metadata": {
    "collapsed": true
   },
   "outputs": [],
   "source": []
  }
 ],
 "metadata": {
  "kernelspec": {
   "display_name": "Python 2",
   "language": "python",
   "name": "python2"
  },
  "language_info": {
   "codemirror_mode": {
    "name": "ipython",
    "version": 2
   },
   "file_extension": ".py",
   "mimetype": "text/x-python",
   "name": "python",
   "nbconvert_exporter": "python",
   "pygments_lexer": "ipython2",
   "version": "2.7.12"
  }
 },
 "nbformat": 4,
 "nbformat_minor": 2
}
