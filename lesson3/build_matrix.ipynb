{
 "cells": [
  {
   "cell_type": "code",
   "execution_count": 23,
   "metadata": {
    "collapsed": false
   },
   "outputs": [],
   "source": [
    "import numpy as np\n",
    "import pandas as pd\n",
    "from vtk import *\n",
    "from vtk.util import numpy_support\n",
    "import imp\n",
    "import h5py\n",
    "import matplotlib.pylab as plt\n",
    "%matplotlib tk\n",
    "\n",
    "from sklearn.neighbors import KDTree\n",
    "import os\n",
    "from tqdm import tqdm"
   ]
  },
  {
   "cell_type": "code",
   "execution_count": 24,
   "metadata": {
    "collapsed": true
   },
   "outputs": [],
   "source": [
    "from experiments import MeshLoad"
   ]
  },
  {
   "cell_type": "code",
   "execution_count": 25,
   "metadata": {
    "collapsed": true
   },
   "outputs": [],
   "source": [
    "FILE_MESH = './test3.vtk'"
   ]
  },
  {
   "cell_type": "code",
   "execution_count": 26,
   "metadata": {
    "collapsed": false
   },
   "outputs": [
    {
     "name": "stdout",
     "output_type": "stream",
     "text": [
      "[[ 228  605  607]\n",
      " [ 605  606  607]\n",
      " [ 605  262  606]\n",
      " ..., \n",
      " [2016  984 2013]\n",
      " [2016  373  984]\n",
      " [2013  984  261]] [[ 0.          0.        ]\n",
      " [ 1.          0.        ]\n",
      " [ 1.          1.        ]\n",
      " ..., \n",
      " [ 0.48091934  0.4676754 ]\n",
      " [ 0.47870318  0.44509473]\n",
      " [ 0.46405484  0.45793146]]\n"
     ]
    }
   ],
   "source": [
    "ml = MeshLoad(FILE_MESH, mesh_type='tri')\n",
    "ml.update()\n",
    "print ml.cells_array, ml.points_array"
   ]
  },
  {
   "cell_type": "code",
   "execution_count": 27,
   "metadata": {
    "collapsed": true
   },
   "outputs": [],
   "source": [
    "# (A+R)c = b+r"
   ]
  },
  {
   "cell_type": "code",
   "execution_count": 28,
   "metadata": {
    "collapsed": false
   },
   "outputs": [],
   "source": [
    "class Tri:\n",
    "    \n",
    "    def __init__(self, p1, p2, p3):\n",
    "        self.x1 = np.matrix(p1).transpose()\n",
    "        self.x2 = np.matrix(p2).transpose()\n",
    "        self.x3 = np.matrix(p3).transpose()\n",
    "        self.diff = np.matrix(np.eye(2))\n",
    "        \n",
    "    def J(self):\n",
    "        return np.vstack([np.ones(3), np.hstack([self.x1, self.x2, self.x3])])\n",
    "    \n",
    "    def det_J(self):\n",
    "        return np.linalg.det(self.J())\n",
    "    \n",
    "    def inv_J(self):\n",
    "        return np.linalg.inv(self.J())\n",
    "    \n",
    "    def V(self):\n",
    "        return self.det_J()/2\n",
    "        \n",
    "    def det_J(self):\n",
    "        return np.linalg.det(self.J())\n",
    "    \n",
    "    def grad_N(self):\n",
    "        \n",
    "        ai = self.inv_J()[:,1]\n",
    "        bi = self.inv_J()[:,2]\n",
    "        \n",
    "        return np.hstack([ai,bi]).transpose()\n",
    "        \n",
    "    def A(self):\n",
    "        ret = np.matrix(np.zeros((3,3)))\n",
    "        t_ = self.grad_N()\n",
    "        \n",
    "        for i in xrange(3):\n",
    "            for j in xrange(3):\n",
    "                ret[i,j] = (t_[0,i]*t_[0,j] + t_[1,i]*t_[1,j])*self.V()\n",
    "        \n",
    "        return ret"
   ]
  },
  {
   "cell_type": "code",
   "execution_count": 29,
   "metadata": {
    "collapsed": false
   },
   "outputs": [
    {
     "data": {
      "text/plain": [
       "matrix([[ 44.86648715, -43.12981771,  -1.73666945],\n",
       "        [ 45.34460476,  -2.63707858, -42.70752618]])"
      ]
     },
     "execution_count": 29,
     "metadata": {},
     "output_type": "execute_result"
    }
   ],
   "source": [
    "idx = 10\n",
    "\n",
    "p1 = ml.points_array[ml.cells_array[10,0]]\n",
    "p2 = ml.points_array[ml.cells_array[10,2]]\n",
    "p3 = ml.points_array[ml.cells_array[10,1]]\n",
    "\n",
    "tri = Tri(p1,p2,p3)\n",
    "tri.grad_N()"
   ]
  },
  {
   "cell_type": "code",
   "execution_count": 30,
   "metadata": {
    "collapsed": false
   },
   "outputs": [
    {
     "data": {
      "text/plain": [
       "matrix([[ 1.10731502, -0.5591254 , -0.54818962],\n",
       "        [-0.5591254 ,  0.50809499,  0.05103041],\n",
       "        [-0.54818962,  0.05103041,  0.49715921]])"
      ]
     },
     "execution_count": 30,
     "metadata": {},
     "output_type": "execute_result"
    }
   ],
   "source": [
    "tri.A()"
   ]
  },
  {
   "cell_type": "code",
   "execution_count": 31,
   "metadata": {
    "collapsed": true
   },
   "outputs": [],
   "source": [
    "matrix_size = len(ml.points_array)"
   ]
  },
  {
   "cell_type": "code",
   "execution_count": 32,
   "metadata": {
    "collapsed": false
   },
   "outputs": [],
   "source": [
    "full_A = np.matrix(np.zeros((matrix_size,matrix_size)))\n",
    "\n",
    "for elem in ml.cells_array:\n",
    "    a,b,c = elem\n",
    "    \n",
    "    p1 = ml.points_array[a]\n",
    "    p2 = ml.points_array[c]\n",
    "    p3 = ml.points_array[b]\n",
    "\n",
    "    tri = Tri(p1,p2,p3)\n",
    "    assert(tri.det_J() > 0)\n",
    "    for i in xrange(3):\n",
    "        for j in xrange(3):\n",
    "            full_A[elem[i], elem[j]] += tri.A()[i,j]"
   ]
  },
  {
   "cell_type": "code",
   "execution_count": 33,
   "metadata": {
    "collapsed": false
   },
   "outputs": [
    {
     "data": {
      "text/plain": [
       "<matplotlib.image.AxesImage at 0x7fdc241efa90>"
      ]
     },
     "execution_count": 33,
     "metadata": {},
     "output_type": "execute_result"
    }
   ],
   "source": [
    "plt.imshow(full_A, interpolation='none')"
   ]
  },
  {
   "cell_type": "code",
   "execution_count": 34,
   "metadata": {
    "collapsed": false
   },
   "outputs": [
    {
     "data": {
      "text/plain": [
       "matrix([[ 0.99878255,  0.        ,  0.        , ...,  0.        ,\n",
       "          0.        ,  0.        ],\n",
       "        [ 0.        ,  0.99878255,  0.        , ...,  0.        ,\n",
       "          0.        ,  0.        ],\n",
       "        [ 0.        ,  0.        ,  0.99878255, ...,  0.        ,\n",
       "          0.        ,  0.        ],\n",
       "        ..., \n",
       "        [ 0.        ,  0.        ,  0.        , ...,  3.73375452,\n",
       "         -0.52803047, -0.71655437],\n",
       "        [ 0.        ,  0.        ,  0.        , ..., -0.52803047,\n",
       "          3.35670672, -0.52803047],\n",
       "        [ 0.        ,  0.        ,  0.        , ..., -0.71655437,\n",
       "         -0.52803047,  3.54523062]])"
      ]
     },
     "execution_count": 34,
     "metadata": {},
     "output_type": "execute_result"
    }
   ],
   "source": [
    "full_A"
   ]
  },
  {
   "cell_type": "code",
   "execution_count": 35,
   "metadata": {
    "collapsed": false
   },
   "outputs": [],
   "source": [
    "full_b = np.zeros((matrix_size,))\n",
    "full_b[51] = 1\n",
    "full_b[501] = -1"
   ]
  },
  {
   "cell_type": "code",
   "execution_count": null,
   "metadata": {
    "collapsed": true
   },
   "outputs": [],
   "source": []
  },
  {
   "cell_type": "code",
   "execution_count": 36,
   "metadata": {
    "collapsed": false
   },
   "outputs": [],
   "source": [
    "lhs = full_A#+full_R\n",
    "rhs = full_b\n",
    "\n",
    "full_x = np.linalg.solve(lhs,rhs)"
   ]
  },
  {
   "cell_type": "code",
   "execution_count": 37,
   "metadata": {
    "collapsed": false
   },
   "outputs": [],
   "source": [
    "ml.write_result(full_x)"
   ]
  },
  {
   "cell_type": "code",
   "execution_count": null,
   "metadata": {
    "collapsed": true
   },
   "outputs": [],
   "source": []
  }
 ],
 "metadata": {
  "kernelspec": {
   "display_name": "Python 2",
   "language": "python",
   "name": "python2"
  },
  "language_info": {
   "codemirror_mode": {
    "name": "ipython",
    "version": 2
   },
   "file_extension": ".py",
   "mimetype": "text/x-python",
   "name": "python",
   "nbconvert_exporter": "python",
   "pygments_lexer": "ipython2",
   "version": "2.7.12"
  }
 },
 "nbformat": 4,
 "nbformat_minor": 2
}
